{
 "cells": [
  {
   "cell_type": "code",
   "execution_count": 1,
   "metadata": {},
   "outputs": [],
   "source": [
    "import numpy as np\n",
    "import pandas as pd\n",
    "\n",
    "batting = pd.read_csv('./Data/Batting.csv')"
   ]
  },
  {
   "cell_type": "code",
   "execution_count": 2,
   "metadata": {},
   "outputs": [],
   "source": [
    "batting = batting[ (batting['yearID'] >=1987) & (batting['yearID'] <=2012)]\n",
    "batting = batting [ (batting['AB'] > 100) & (batting['G'] > 81)]\n",
    "batting = batting.drop(['stint', 'teamID', 'lgID', 'G_batting', 'G_old'], axis = 1)"
   ]
  },
  {
   "cell_type": "code",
   "execution_count": 3,
   "metadata": {},
   "outputs": [],
   "source": [
    "allstars = pd.read_csv('./Data/AllstarFull.csv')\n",
    "allstars = allstars[ (allstars['yearID'] >=1987) & (allstars['yearID'] <=2012)]\n",
    "allstars = allstars[['playerID', 'yearID', 'gameID']]"
   ]
  },
  {
   "cell_type": "code",
   "execution_count": 4,
   "metadata": {},
   "outputs": [],
   "source": [
    "merged = pd.merge(batting, allstars, how = 'left', on = ['playerID', 'yearID'])"
   ]
  },
  {
   "cell_type": "code",
   "execution_count": 5,
   "metadata": {},
   "outputs": [],
   "source": [
    "merged['All-Star'] = np.where(merged['gameID'].notnull() , True, False)"
   ]
  },
  {
   "cell_type": "code",
   "execution_count": 6,
   "metadata": {},
   "outputs": [
    {
     "data": {
      "text/html": [
       "<div>\n",
       "<style scoped>\n",
       "    .dataframe tbody tr th:only-of-type {\n",
       "        vertical-align: middle;\n",
       "    }\n",
       "\n",
       "    .dataframe tbody tr th {\n",
       "        vertical-align: top;\n",
       "    }\n",
       "\n",
       "    .dataframe thead th {\n",
       "        text-align: right;\n",
       "    }\n",
       "</style>\n",
       "<table border=\"1\" class=\"dataframe\">\n",
       "  <thead>\n",
       "    <tr style=\"text-align: right;\">\n",
       "      <th></th>\n",
       "      <th>AB</th>\n",
       "      <th>R</th>\n",
       "      <th>H</th>\n",
       "      <th>2B</th>\n",
       "      <th>3B</th>\n",
       "      <th>HR</th>\n",
       "      <th>RBI</th>\n",
       "      <th>SB</th>\n",
       "      <th>BB</th>\n",
       "      <th>SO</th>\n",
       "      <th>All-Star</th>\n",
       "      <th>1B</th>\n",
       "      <th>SLG</th>\n",
       "      <th>AVG</th>\n",
       "      <th>OBP</th>\n",
       "      <th>ISO</th>\n",
       "      <th>OPS</th>\n",
       "    </tr>\n",
       "  </thead>\n",
       "  <tbody>\n",
       "    <tr>\n",
       "      <th>0</th>\n",
       "      <td>244.0</td>\n",
       "      <td>33.0</td>\n",
       "      <td>68.0</td>\n",
       "      <td>14.0</td>\n",
       "      <td>1.0</td>\n",
       "      <td>12.0</td>\n",
       "      <td>41.0</td>\n",
       "      <td>3.0</td>\n",
       "      <td>9.0</td>\n",
       "      <td>28.0</td>\n",
       "      <td>False</td>\n",
       "      <td>41.0</td>\n",
       "      <td>0.491803</td>\n",
       "      <td>0.278689</td>\n",
       "      <td>0.298450</td>\n",
       "      <td>0.213115</td>\n",
       "      <td>0.790253</td>\n",
       "    </tr>\n",
       "    <tr>\n",
       "      <th>1</th>\n",
       "      <td>345.0</td>\n",
       "      <td>41.0</td>\n",
       "      <td>86.0</td>\n",
       "      <td>17.0</td>\n",
       "      <td>3.0</td>\n",
       "      <td>9.0</td>\n",
       "      <td>33.0</td>\n",
       "      <td>3.0</td>\n",
       "      <td>16.0</td>\n",
       "      <td>98.0</td>\n",
       "      <td>False</td>\n",
       "      <td>57.0</td>\n",
       "      <td>0.394203</td>\n",
       "      <td>0.249275</td>\n",
       "      <td>0.290761</td>\n",
       "      <td>0.144928</td>\n",
       "      <td>0.684964</td>\n",
       "    </tr>\n",
       "    <tr>\n",
       "      <th>2</th>\n",
       "      <td>420.0</td>\n",
       "      <td>60.0</td>\n",
       "      <td>107.0</td>\n",
       "      <td>18.0</td>\n",
       "      <td>7.0</td>\n",
       "      <td>17.0</td>\n",
       "      <td>60.0</td>\n",
       "      <td>4.0</td>\n",
       "      <td>36.0</td>\n",
       "      <td>110.0</td>\n",
       "      <td>False</td>\n",
       "      <td>65.0</td>\n",
       "      <td>0.452381</td>\n",
       "      <td>0.254762</td>\n",
       "      <td>0.317597</td>\n",
       "      <td>0.197619</td>\n",
       "      <td>0.769978</td>\n",
       "    </tr>\n",
       "    <tr>\n",
       "      <th>3</th>\n",
       "      <td>320.0</td>\n",
       "      <td>37.0</td>\n",
       "      <td>81.0</td>\n",
       "      <td>18.0</td>\n",
       "      <td>7.0</td>\n",
       "      <td>8.0</td>\n",
       "      <td>33.0</td>\n",
       "      <td>3.0</td>\n",
       "      <td>22.0</td>\n",
       "      <td>99.0</td>\n",
       "      <td>False</td>\n",
       "      <td>48.0</td>\n",
       "      <td>0.428125</td>\n",
       "      <td>0.253125</td>\n",
       "      <td>0.307246</td>\n",
       "      <td>0.175000</td>\n",
       "      <td>0.735371</td>\n",
       "    </tr>\n",
       "    <tr>\n",
       "      <th>4</th>\n",
       "      <td>252.0</td>\n",
       "      <td>35.0</td>\n",
       "      <td>69.0</td>\n",
       "      <td>18.0</td>\n",
       "      <td>2.0</td>\n",
       "      <td>6.0</td>\n",
       "      <td>30.0</td>\n",
       "      <td>3.0</td>\n",
       "      <td>14.0</td>\n",
       "      <td>68.0</td>\n",
       "      <td>False</td>\n",
       "      <td>43.0</td>\n",
       "      <td>0.432540</td>\n",
       "      <td>0.273810</td>\n",
       "      <td>0.314607</td>\n",
       "      <td>0.158730</td>\n",
       "      <td>0.747146</td>\n",
       "    </tr>\n",
       "    <tr>\n",
       "      <th>...</th>\n",
       "      <td>...</td>\n",
       "      <td>...</td>\n",
       "      <td>...</td>\n",
       "      <td>...</td>\n",
       "      <td>...</td>\n",
       "      <td>...</td>\n",
       "      <td>...</td>\n",
       "      <td>...</td>\n",
       "      <td>...</td>\n",
       "      <td>...</td>\n",
       "      <td>...</td>\n",
       "      <td>...</td>\n",
       "      <td>...</td>\n",
       "      <td>...</td>\n",
       "      <td>...</td>\n",
       "      <td>...</td>\n",
       "      <td>...</td>\n",
       "    </tr>\n",
       "    <tr>\n",
       "      <th>7493</th>\n",
       "      <td>541.0</td>\n",
       "      <td>77.0</td>\n",
       "      <td>129.0</td>\n",
       "      <td>28.0</td>\n",
       "      <td>2.0</td>\n",
       "      <td>10.0</td>\n",
       "      <td>75.0</td>\n",
       "      <td>24.0</td>\n",
       "      <td>92.0</td>\n",
       "      <td>107.0</td>\n",
       "      <td>False</td>\n",
       "      <td>89.0</td>\n",
       "      <td>0.353050</td>\n",
       "      <td>0.238447</td>\n",
       "      <td>0.345679</td>\n",
       "      <td>0.114603</td>\n",
       "      <td>0.698729</td>\n",
       "    </tr>\n",
       "    <tr>\n",
       "      <th>7494</th>\n",
       "      <td>588.0</td>\n",
       "      <td>99.0</td>\n",
       "      <td>158.0</td>\n",
       "      <td>46.0</td>\n",
       "      <td>6.0</td>\n",
       "      <td>20.0</td>\n",
       "      <td>91.0</td>\n",
       "      <td>19.0</td>\n",
       "      <td>77.0</td>\n",
       "      <td>128.0</td>\n",
       "      <td>False</td>\n",
       "      <td>86.0</td>\n",
       "      <td>0.469388</td>\n",
       "      <td>0.268707</td>\n",
       "      <td>0.352679</td>\n",
       "      <td>0.200680</td>\n",
       "      <td>0.822066</td>\n",
       "    </tr>\n",
       "    <tr>\n",
       "      <th>7495</th>\n",
       "      <td>560.0</td>\n",
       "      <td>88.0</td>\n",
       "      <td>151.0</td>\n",
       "      <td>39.0</td>\n",
       "      <td>7.0</td>\n",
       "      <td>20.0</td>\n",
       "      <td>74.0</td>\n",
       "      <td>14.0</td>\n",
       "      <td>97.0</td>\n",
       "      <td>103.0</td>\n",
       "      <td>False</td>\n",
       "      <td>85.0</td>\n",
       "      <td>0.471429</td>\n",
       "      <td>0.269643</td>\n",
       "      <td>0.376877</td>\n",
       "      <td>0.201786</td>\n",
       "      <td>0.848305</td>\n",
       "    </tr>\n",
       "    <tr>\n",
       "      <th>7496</th>\n",
       "      <td>392.0</td>\n",
       "      <td>46.0</td>\n",
       "      <td>108.0</td>\n",
       "      <td>19.0</td>\n",
       "      <td>1.0</td>\n",
       "      <td>3.0</td>\n",
       "      <td>43.0</td>\n",
       "      <td>2.0</td>\n",
       "      <td>25.0</td>\n",
       "      <td>60.0</td>\n",
       "      <td>False</td>\n",
       "      <td>85.0</td>\n",
       "      <td>0.352041</td>\n",
       "      <td>0.275510</td>\n",
       "      <td>0.322353</td>\n",
       "      <td>0.076531</td>\n",
       "      <td>0.674394</td>\n",
       "    </tr>\n",
       "    <tr>\n",
       "      <th>7497</th>\n",
       "      <td>286.0</td>\n",
       "      <td>40.0</td>\n",
       "      <td>69.0</td>\n",
       "      <td>24.0</td>\n",
       "      <td>2.0</td>\n",
       "      <td>2.0</td>\n",
       "      <td>26.0</td>\n",
       "      <td>5.0</td>\n",
       "      <td>27.0</td>\n",
       "      <td>54.0</td>\n",
       "      <td>False</td>\n",
       "      <td>41.0</td>\n",
       "      <td>0.360140</td>\n",
       "      <td>0.241259</td>\n",
       "      <td>0.308176</td>\n",
       "      <td>0.118881</td>\n",
       "      <td>0.668316</td>\n",
       "    </tr>\n",
       "  </tbody>\n",
       "</table>\n",
       "<p>7498 rows × 17 columns</p>\n",
       "</div>"
      ],
      "text/plain": [
       "         AB     R      H    2B   3B    HR   RBI    SB    BB     SO  All-Star  \\\n",
       "0     244.0  33.0   68.0  14.0  1.0  12.0  41.0   3.0   9.0   28.0     False   \n",
       "1     345.0  41.0   86.0  17.0  3.0   9.0  33.0   3.0  16.0   98.0     False   \n",
       "2     420.0  60.0  107.0  18.0  7.0  17.0  60.0   4.0  36.0  110.0     False   \n",
       "3     320.0  37.0   81.0  18.0  7.0   8.0  33.0   3.0  22.0   99.0     False   \n",
       "4     252.0  35.0   69.0  18.0  2.0   6.0  30.0   3.0  14.0   68.0     False   \n",
       "...     ...   ...    ...   ...  ...   ...   ...   ...   ...    ...       ...   \n",
       "7493  541.0  77.0  129.0  28.0  2.0  10.0  75.0  24.0  92.0  107.0     False   \n",
       "7494  588.0  99.0  158.0  46.0  6.0  20.0  91.0  19.0  77.0  128.0     False   \n",
       "7495  560.0  88.0  151.0  39.0  7.0  20.0  74.0  14.0  97.0  103.0     False   \n",
       "7496  392.0  46.0  108.0  19.0  1.0   3.0  43.0   2.0  25.0   60.0     False   \n",
       "7497  286.0  40.0   69.0  24.0  2.0   2.0  26.0   5.0  27.0   54.0     False   \n",
       "\n",
       "        1B       SLG       AVG       OBP       ISO       OPS  \n",
       "0     41.0  0.491803  0.278689  0.298450  0.213115  0.790253  \n",
       "1     57.0  0.394203  0.249275  0.290761  0.144928  0.684964  \n",
       "2     65.0  0.452381  0.254762  0.317597  0.197619  0.769978  \n",
       "3     48.0  0.428125  0.253125  0.307246  0.175000  0.735371  \n",
       "4     43.0  0.432540  0.273810  0.314607  0.158730  0.747146  \n",
       "...    ...       ...       ...       ...       ...       ...  \n",
       "7493  89.0  0.353050  0.238447  0.345679  0.114603  0.698729  \n",
       "7494  86.0  0.469388  0.268707  0.352679  0.200680  0.822066  \n",
       "7495  85.0  0.471429  0.269643  0.376877  0.201786  0.848305  \n",
       "7496  85.0  0.352041  0.275510  0.322353  0.076531  0.674394  \n",
       "7497  41.0  0.360140  0.241259  0.308176  0.118881  0.668316  \n",
       "\n",
       "[7498 rows x 17 columns]"
      ]
     },
     "execution_count": 6,
     "metadata": {},
     "output_type": "execute_result"
    }
   ],
   "source": [
    "merged['1B'] = (merged['H'] - (merged['2B'] + merged['3B'] + merged['HR']))\n",
    "merged['SLG'] = (merged['1B'] + (2*merged['2B']) + (3*merged['3B']) + (4*merged['HR'])) / merged['AB']\n",
    "merged['AVG'] = merged['H'] / merged['AB']\n",
    "merged['OBP'] = (merged['H'] + merged['BB'] + merged['HBP']) / (merged['AB'] + merged['BB'] + merged['HBP'] + merged['SF'])\n",
    "merged['ISO'] = merged['SLG'] - merged['AVG']\n",
    "merged['OPS'] = merged['OBP'] + merged['SLG']\n",
    "merged = merged.drop(['playerID', 'yearID', 'gameID', 'G', 'SF', 'SH', 'HBP', 'GIDP', 'CS', 'IBB'], axis=1)\n",
    "merged"
   ]
  },
  {
   "cell_type": "code",
   "execution_count": 7,
   "metadata": {},
   "outputs": [],
   "source": [
    "import matplotlib as mpl\n",
    "import matplotlib.pyplot as plt\n",
    "import seaborn as sns\n",
    "import sklearn as skl\n",
    "%matplotlib inline\n"
   ]
  },
  {
   "cell_type": "code",
   "execution_count": 8,
   "metadata": {},
   "outputs": [],
   "source": [
    "merged_x = merged.drop('All-Star', 1)\n",
    "merged_y = merged['All-Star']"
   ]
  },
  {
   "cell_type": "code",
   "execution_count": 9,
   "metadata": {},
   "outputs": [],
   "source": [
    "from sklearn.model_selection import train_test_split\n",
    "\n",
    "merged_x_train, merged_x_test, merged_y_train, merged_y_test = train_test_split(merged_x, merged_y, random_state = 42, train_size = 0.7)"
   ]
  },
  {
   "cell_type": "code",
   "execution_count": 10,
   "metadata": {},
   "outputs": [
    {
     "name": "stdout",
     "output_type": "stream",
     "text": [
      "7498 2250 5248\n"
     ]
    }
   ],
   "source": [
    "print(len(merged_x), len(merged_x_test), len(merged_x_train))"
   ]
  },
  {
   "cell_type": "code",
   "execution_count": 11,
   "metadata": {},
   "outputs": [],
   "source": [
    "from sklearn.linear_model import LogisticRegression"
   ]
  },
  {
   "cell_type": "code",
   "execution_count": 12,
   "metadata": {},
   "outputs": [
    {
     "name": "stdout",
     "output_type": "stream",
     "text": [
      "{'C': 10, 'penalty': 'l2'}\n"
     ]
    }
   ],
   "source": [
    "from sklearn.model_selection import GridSearchCV\n",
    "\n",
    "params = {'penalty': ['l1', 'l2'],\n",
    "         'C': [0.01, 0.1, 1, 10]}\n",
    "\n",
    "log_regression_model = LogisticRegression(class_weight='balanced', max_iter = 700)\n",
    "\n",
    "grid_search_log_reg = GridSearchCV(log_regression_model, \n",
    "                                    param_grid=params,  \n",
    "                                   cv=10, \n",
    "                                   n_jobs = 2  \n",
    "                                   )\n",
    "grid_search_log_reg.fit(merged_x_train, merged_y_train)\n",
    "\n",
    "best_log_reg = grid_search_log_reg.best_estimator_\n",
    "\n",
    "print(grid_search_log_reg.best_params_)"
   ]
  },
  {
   "cell_type": "code",
   "execution_count": 13,
   "metadata": {},
   "outputs": [
    {
     "name": "stdout",
     "output_type": "stream",
     "text": [
      "The accuracy score is 0.7875555555555556\n"
     ]
    }
   ],
   "source": [
    "import sklearn.metrics as sklmetrics\n",
    "\n",
    "merged_pred_Y = best_log_reg.predict(merged_x_test)\n",
    "\n",
    "print('The accuracy score is {}'.format(sklmetrics.accuracy_score(merged_y_test, merged_pred_Y)))\n"
   ]
  },
  {
   "cell_type": "code",
   "execution_count": 14,
   "metadata": {},
   "outputs": [
    {
     "name": "stdout",
     "output_type": "stream",
     "text": [
      "[[1526  412]\n",
      " [  66  246]]\n"
     ]
    },
    {
     "data": {
      "text/plain": [
       "Text(91.68, 0.5, 'True Value')"
      ]
     },
     "execution_count": 14,
     "metadata": {},
     "output_type": "execute_result"
    },
    {
     "data": {
      "image/png": "[encoded data removed]",
      "text/plain": [
       "<Figure size 432x288 with 1 Axes>"
      ]
     },
     "metadata": {
      "needs_background": "light"
     },
     "output_type": "display_data"
    }
   ],
   "source": [
    "conf_mat = sklmetrics.confusion_matrix(merged_y_test, merged_pred_Y)\n",
    "print(conf_mat)\n",
    "\n",
    "sns.heatmap(conf_mat, fmt='d',square=True, annot=True, cbar = False, xticklabels = ['Not All-Star','All-Star'], \n",
    "                                                            yticklabels = ['Not All-Star','All-Star'])\n",
    "plt.xlabel(\"Predicted Value\")\n",
    "plt.ylabel(\"True Value\")"
   ]
  },
  {
   "cell_type": "code",
   "execution_count": 15,
   "metadata": {},
   "outputs": [
    {
     "data": {
      "image/png": "[encoded data removed]",
      "text/plain": [
       "<Figure size 720x432 with 1 Axes>"
      ]
     },
     "metadata": {
      "needs_background": "light"
     },
     "output_type": "display_data"
    }
   ],
   "source": [
    "def plot_feature_importance_coeff(model, Xnames, cls_nm = None):\n",
    "\n",
    "    imp_features = pd.DataFrame(np.column_stack((Xnames, model.coef_.ravel())), columns = ['feature', 'importance'])\n",
    "    imp_features[['importance']] = imp_features[['importance']].astype(float)\n",
    "    imp_features[['abs_importance']] = imp_features[['importance']].abs()\n",
    "    imp_features = imp_features.sort_values(by = ['abs_importance'], ascending = [1])\n",
    "    plt.figure(figsize=(10,6))\n",
    "    plt.title(cls_nm + \" - Feature Importance\")\n",
    "    plt.barh(range(imp_features.shape[0]), imp_features['importance'],\n",
    "            color=\"b\", align=\"center\")\n",
    "    plt.yticks(range(imp_features.shape[0]), imp_features['feature'], )\n",
    "    plt.ylim([-1, imp_features.shape[0]])\n",
    "    plt.xlabel('Importance')\n",
    "    plt.ylabel('Feature')\n",
    "    plt.tight_layout() \n",
    "    plt.savefig(cls_nm + \"_feature_imp.png\", bbox_inches='tight')\n",
    "    plt.show()\n",
    "    \n",
    "plot_feature_importance_coeff(best_log_reg, merged_x_train.columns, cls_nm=\"Logistic Regression\")"
   ]
  },
  {
   "cell_type": "code",
   "execution_count": 16,
   "metadata": {},
   "outputs": [
    {
     "data": {
      "text/plain": [
       "DecisionTreeClassifier(class_weight='balanced')"
      ]
     },
     "execution_count": 16,
     "metadata": {},
     "output_type": "execute_result"
    }
   ],
   "source": [
    "from sklearn.tree import DecisionTreeClassifier\n",
    "\n",
    "dec_tree_model = DecisionTreeClassifier(class_weight='balanced')\n",
    "\n",
    "dec_tree_model.fit(merged_x_train, merged_y_train)"
   ]
  },
  {
   "cell_type": "code",
   "execution_count": 17,
   "metadata": {},
   "outputs": [
    {
     "name": "stdout",
     "output_type": "stream",
     "text": [
      "{'max_depth': 5, 'max_features': None}\n"
     ]
    }
   ],
   "source": [
    "params = {'max_depth':[3,4,5],\n",
    "          'max_features':['auto','log2',None]}\n",
    "\n",
    "grid_search_dec_tree = GridSearchCV(dec_tree_model, \n",
    "                                    param_grid=params,  \n",
    "                                   cv=3, \n",
    "                                   n_jobs = 1 \n",
    "                                   )\n",
    "\n",
    "grid_search_dec_tree.fit(merged_x_train, merged_y_train)\n",
    "\n",
    "best_dec_tree_cv = grid_search_dec_tree.best_estimator_\n",
    "\n",
    "print(grid_search_dec_tree.best_params_)"
   ]
  },
  {
   "cell_type": "code",
   "execution_count": 18,
   "metadata": {},
   "outputs": [
    {
     "name": "stdout",
     "output_type": "stream",
     "text": [
      "The accuracy score is 0.7626666666666667\n"
     ]
    }
   ],
   "source": [
    "merged_y_pred = best_dec_tree_cv.predict(merged_x_test)\n",
    "\n",
    "print('The accuracy score is {}'.format(sklmetrics.accuracy_score(merged_y_test, merged_y_pred)))\n"
   ]
  },
  {
   "cell_type": "code",
   "execution_count": 19,
   "metadata": {},
   "outputs": [
    {
     "name": "stdout",
     "output_type": "stream",
     "text": [
      "[[1458  480]\n",
      " [  54  258]]\n"
     ]
    },
    {
     "data": {
      "text/plain": [
       "Text(91.68, 0.5, 'True Value')"
      ]
     },
     "execution_count": 19,
     "metadata": {},
     "output_type": "execute_result"
    },
    {
     "data": {
      "image/png": "[encoded data removed]",
      "text/plain": [
       "<Figure size 432x288 with 1 Axes>"
      ]
     },
     "metadata": {
      "needs_background": "light"
     },
     "output_type": "display_data"
    }
   ],
   "source": [
    "conf_mat = sklmetrics.confusion_matrix(merged_y_test, merged_y_pred)\n",
    "print(conf_mat)\n",
    "\n",
    "sns.heatmap(conf_mat, fmt='d',square=True, annot=True, cbar = False, xticklabels = ['Not All-Star','All-Star'], \n",
    "                                                            yticklabels = ['Not All-Star','All-Star'])\n",
    "plt.xlabel(\"Predicted Value\")\n",
    "plt.ylabel(\"True Value\")"
   ]
  },
  {
   "cell_type": "code",
   "execution_count": 20,
   "metadata": {},
   "outputs": [],
   "source": [
    "def plot_feature_importance(model, Xnames, cls_nm = None):\n",
    "\n",
    "    imp_features = pd.DataFrame(np.column_stack((Xnames, model.feature_importances_)), columns = ['feature', 'importance'])\n",
    "    imp_features[['importance']] = imp_features[['importance']].astype(float)\n",
    "    imp_features[['abs_importance']] = imp_features[['importance']].abs()\n",
    "    imp_features = imp_features.sort_values(by = ['abs_importance'], ascending = [1])\n",
    "    imp_features = imp_features.iloc[10:]\n",
    "    plt.figure(figsize=(10,6))\n",
    "    plt.title(cls_nm + \" - Feature Importance\")\n",
    "    plt.barh(range(imp_features.shape[0]), imp_features['importance'],\n",
    "            color=\"b\", align=\"center\")\n",
    "    plt.yticks(range(imp_features.shape[0]), imp_features['feature'], )\n",
    "    plt.ylim([-1, imp_features.shape[0]])\n",
    "    plt.xlabel('Importance')\n",
    "    plt.ylabel('Feature')\n",
    "    plt.tight_layout() \n",
    "    plt.savefig(cls_nm + \"_feature_imp.png\", bbox_inches='tight')\n",
    "    plt.show()"
   ]
  },
  {
   "cell_type": "code",
   "execution_count": 21,
   "metadata": {},
   "outputs": [
    {
     "data": {
      "image/png": "[encoded data removed]",
      "text/plain": [
       "<Figure size 720x432 with 1 Axes>"
      ]
     },
     "metadata": {
      "needs_background": "light"
     },
     "output_type": "display_data"
    }
   ],
   "source": [
    "plot_feature_importance(best_dec_tree_cv, merged_x.columns, cls_nm='Best CV Decision Tree')"
   ]
  },
  {
   "cell_type": "code",
   "execution_count": 22,
   "metadata": {},
   "outputs": [
    {
     "name": "stdout",
     "output_type": "stream",
     "text": [
      "1. feature 2 (0.637105)\n",
      "2. feature 6 (0.133315)\n",
      "3. feature 15 (0.084556)\n",
      "4. feature 11 (0.046521)\n",
      "5. feature 13 (0.031804)\n",
      "6. feature 9 (0.023052)\n",
      "7. feature 12 (0.016457)\n",
      "8. feature 5 (0.010783)\n",
      "9. feature 8 (0.006195)\n",
      "10. feature 3 (0.003851)\n",
      "11. feature 7 (0.003446)\n",
      "12. feature 1 (0.002914)\n",
      "13. feature 14 (0.000000)\n",
      "14. feature 10 (0.000000)\n",
      "15. feature 4 (0.000000)\n",
      "16. feature 0 (0.000000)\n"
     ]
    }
   ],
   "source": [
    "importances = best_dec_tree_cv.feature_importances_\n",
    "\n",
    "indices = np.argsort(importances)[::-1]\n",
    "\n",
    "for f in range(merged_x.shape[1]):\n",
    "    print(\"%d. feature %d (%f)\" % (f + 1, indices[f], importances[indices[f]]))"
   ]
  }
 ],
 "metadata": {
  "kernelspec": {
   "display_name": "Python 3",
   "language": "python",
   "name": "python3"
  },
  "language_info": {
   "codemirror_mode": {
    "name": "ipython",
    "version": 3
   },
   "file_extension": ".py",
   "mimetype": "text/x-python",
   "name": "python",
   "nbconvert_exporter": "python",
   "pygments_lexer": "ipython3",
   "version": "3.8.3"
  }
 },
 "nbformat": 4,
 "nbformat_minor": 4
}
