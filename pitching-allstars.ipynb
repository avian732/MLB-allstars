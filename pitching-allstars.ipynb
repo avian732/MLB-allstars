{
 "cells": [
  {
   "cell_type": "markdown",
   "metadata": {},
   "source": [
    "# So You Think You Can Pitch? "
   ]
  },
  {
   "cell_type": "markdown",
   "metadata": {},
   "source": [
    "The goal of this project is to predict which pitching statistics determine all-star bids for MLB starting pitchers."
   ]
  },
  {
   "cell_type": "markdown",
   "metadata": {},
   "source": [
    "First, the necessary packages are imported and the data are read in."
   ]
  },
  {
   "cell_type": "code",
   "execution_count": 1,
   "metadata": {},
   "outputs": [],
   "source": [
    "import numpy as np\n",
    "import pandas as pd\n",
    "\n",
    "pitching = pd.read_csv('./Data/Pitching.csv')",
    "pitching.head()"
   ]
  },
  {
   "cell_type": "markdown",
   "metadata": {},
   "source": [
    "This data set includes statistics from 1871 to 2012, however, for the purposes of this project data are analyzed from the 1987 season to the 2012 season. This is to make the data more manageable; 1987 was chosen as a cut-off due to the increase in offensive production beginning that season. Furthermore, only starting pitchers who started more than 25 games will be considered, such that relief pitchers and starters with very few outings are eliminated from analysis. More advanced statistics, such as WHIP and K%, are also calculated and implemented into the data set. Lastly, columns featuring irrelevant data in relation to the project are dropped. Some examples include League, Balks, and Saves (since only starters are considered), as well as columns with missing data, such as Opponent Batting Average and Sacrifice Flies. "
   ]
  },
  {
   "cell_type": "code",
   "execution_count": 2,
   "metadata": {},
   "outputs": [
    {
     "data": {
      "text/html": [
       "<div>\n",
       "<style scoped>\n",
       "    .dataframe tbody tr th:only-of-type {\n",
       "        vertical-align: middle;\n",
       "    }\n",
       "\n",
       "    .dataframe tbody tr th {\n",
       "        vertical-align: top;\n",
       "    }\n",
       "\n",
       "    .dataframe thead th {\n",
       "        text-align: right;\n",
       "    }\n",
       "</style>\n",
       "<table border=\"1\" class=\"dataframe\">\n",
       "  <thead>\n",
       "    <tr style=\"text-align: right;\">\n",
       "      <th></th>\n",
       "      <th>playerID</th>\n",
       "      <th>yearID</th>\n",
       "      <th>W</th>\n",
       "      <th>L</th>\n",
       "      <th>G</th>\n",
       "      <th>CG</th>\n",
       "      <th>SHO</th>\n",
       "      <th>H</th>\n",
       "      <th>ER</th>\n",
       "      <th>HR</th>\n",
       "      <th>BB</th>\n",
       "      <th>SO</th>\n",
       "      <th>ERA</th>\n",
       "      <th>BFP</th>\n",
       "      <th>R</th>\n",
       "      <th>IP</th>\n",
       "      <th>WHIP</th>\n",
       "      <th>K%</th>\n",
       "      <th>BB%</th>\n",
       "      <th>K%-BB%</th>\n",
       "    </tr>\n",
       "  </thead>\n",
       "  <tbody>\n",
       "    <tr>\n",
       "      <th>43</th>\n",
       "      <td>abbotji01</td>\n",
       "      <td>1989</td>\n",
       "      <td>12</td>\n",
       "      <td>12</td>\n",
       "      <td>29</td>\n",
       "      <td>4</td>\n",
       "      <td>2</td>\n",
       "      <td>190</td>\n",
       "      <td>79</td>\n",
       "      <td>13</td>\n",
       "      <td>74</td>\n",
       "      <td>115</td>\n",
       "      <td>3.92</td>\n",
       "      <td>788.0</td>\n",
       "      <td>95</td>\n",
       "      <td>181.333333</td>\n",
       "      <td>1.455882</td>\n",
       "      <td>0.145939</td>\n",
       "      <td>0.093909</td>\n",
       "      <td>0.052030</td>\n",
       "    </tr>\n",
       "    <tr>\n",
       "      <th>44</th>\n",
       "      <td>abbotji01</td>\n",
       "      <td>1990</td>\n",
       "      <td>10</td>\n",
       "      <td>14</td>\n",
       "      <td>33</td>\n",
       "      <td>4</td>\n",
       "      <td>1</td>\n",
       "      <td>246</td>\n",
       "      <td>106</td>\n",
       "      <td>16</td>\n",
       "      <td>72</td>\n",
       "      <td>105</td>\n",
       "      <td>4.51</td>\n",
       "      <td>925.0</td>\n",
       "      <td>116</td>\n",
       "      <td>211.666667</td>\n",
       "      <td>1.502362</td>\n",
       "      <td>0.113514</td>\n",
       "      <td>0.077838</td>\n",
       "      <td>0.035676</td>\n",
       "    </tr>\n",
       "    <tr>\n",
       "      <th>45</th>\n",
       "      <td>abbotji01</td>\n",
       "      <td>1991</td>\n",
       "      <td>18</td>\n",
       "      <td>11</td>\n",
       "      <td>34</td>\n",
       "      <td>5</td>\n",
       "      <td>1</td>\n",
       "      <td>222</td>\n",
       "      <td>78</td>\n",
       "      <td>14</td>\n",
       "      <td>73</td>\n",
       "      <td>158</td>\n",
       "      <td>2.89</td>\n",
       "      <td>1002.0</td>\n",
       "      <td>85</td>\n",
       "      <td>243.000000</td>\n",
       "      <td>1.213992</td>\n",
       "      <td>0.157685</td>\n",
       "      <td>0.072854</td>\n",
       "      <td>0.084830</td>\n",
       "    </tr>\n",
       "    <tr>\n",
       "      <th>46</th>\n",
       "      <td>abbotji01</td>\n",
       "      <td>1992</td>\n",
       "      <td>7</td>\n",
       "      <td>15</td>\n",
       "      <td>29</td>\n",
       "      <td>7</td>\n",
       "      <td>0</td>\n",
       "      <td>208</td>\n",
       "      <td>65</td>\n",
       "      <td>12</td>\n",
       "      <td>68</td>\n",
       "      <td>130</td>\n",
       "      <td>2.77</td>\n",
       "      <td>874.0</td>\n",
       "      <td>73</td>\n",
       "      <td>211.000000</td>\n",
       "      <td>1.308057</td>\n",
       "      <td>0.148741</td>\n",
       "      <td>0.077803</td>\n",
       "      <td>0.070938</td>\n",
       "    </tr>\n",
       "    <tr>\n",
       "      <th>47</th>\n",
       "      <td>abbotji01</td>\n",
       "      <td>1993</td>\n",
       "      <td>11</td>\n",
       "      <td>14</td>\n",
       "      <td>32</td>\n",
       "      <td>4</td>\n",
       "      <td>1</td>\n",
       "      <td>221</td>\n",
       "      <td>104</td>\n",
       "      <td>22</td>\n",
       "      <td>73</td>\n",
       "      <td>95</td>\n",
       "      <td>4.37</td>\n",
       "      <td>906.0</td>\n",
       "      <td>115</td>\n",
       "      <td>214.000000</td>\n",
       "      <td>1.373832</td>\n",
       "      <td>0.104857</td>\n",
       "      <td>0.080574</td>\n",
       "      <td>0.024283</td>\n",
       "    </tr>\n",
       "  </tbody>\n",
       "</table>\n",
       "</div>"
      ],
      "text/plain": [
       "     playerID  yearID   W   L   G  CG  SHO    H   ER  HR  BB   SO   ERA  \\\n",
       "43  abbotji01    1989  12  12  29   4    2  190   79  13  74  115  3.92   \n",
       "44  abbotji01    1990  10  14  33   4    1  246  106  16  72  105  4.51   \n",
       "45  abbotji01    1991  18  11  34   5    1  222   78  14  73  158  2.89   \n",
       "46  abbotji01    1992   7  15  29   7    0  208   65  12  68  130  2.77   \n",
       "47  abbotji01    1993  11  14  32   4    1  221  104  22  73   95  4.37   \n",
       "\n",
       "       BFP    R          IP      WHIP        K%       BB%    K%-BB%  \n",
       "43   788.0   95  181.333333  1.455882  0.145939  0.093909  0.052030  \n",
       "44   925.0  116  211.666667  1.502362  0.113514  0.077838  0.035676  \n",
       "45  1002.0   85  243.000000  1.213992  0.157685  0.072854  0.084830  \n",
       "46   874.0   73  211.000000  1.308057  0.148741  0.077803  0.070938  \n",
       "47   906.0  115  214.000000  1.373832  0.104857  0.080574  0.024283  "
      ]
     },
     "execution_count": 2,
     "metadata": {},
     "output_type": "execute_result"
    }
   ],
   "source": [
    "pitching = pitching[ (pitching['yearID'] >= 1987) & (pitching['yearID'] <= 2012)]\n",
    "pitching = pitching[ pitching['GS'] > 25 ]\n",
    "pitching['IP'] = pitching['IPouts'] / 3\n",
    "pitching['WHIP'] = (pitching['H'] + pitching['BB']) / pitching['IP']\n",
    "pitching['K%'] = pitching['SO'] / pitching['BFP']\n",
    "pitching['BB%'] = pitching['BB'] / pitching['BFP']\n",
    "pitching['K%-BB%'] = pitching['K%'] - pitching['BB%']\n",
    "\n",
    "pitching = pitching.drop(['IPouts', 'stint', 'teamID', 'lgID', 'GS', 'SV', 'IBB', 'WP', 'HBP', 'BK', 'GF', 'SH', 'SF', 'GIDP', 'BAOpp'], axis = 1)\n",
    "\n",
    "pitching.head()"
   ]
  },
  {
   "cell_type": "markdown",
   "metadata": {},
   "source": [
    "Statistics from 1871 - 2012 All-Star games, obtained from the same source as the pitching statistics, are read. I am only interested in whether a particular player participated in the game, to indicate whether they were an All-Star, so all other columns except gameID are dropped. Nonetheless, playerID and yearID are also kept in order to properly join this dataframe with the pitching statistics dataframe. "
   ]
  },
  {
   "cell_type": "code",
   "execution_count": 3,
   "metadata": {},
   "outputs": [],
   "source": [
    "allstars = pd.read_csv('./Data/AllstarFull.csv')\n",
    "allstars = allstars[ (allstars['yearID'] >= 1987) & (allstars['yearID'] <=2012)]\n",
    "allstars = allstars[['playerID', 'yearID', 'gameID']]"
   ]
  },
  {
   "cell_type": "code",
   "execution_count": 4,
   "metadata": {},
   "outputs": [
    {
     "data": {
      "text/html": [
       "<div>\n",
       "<style scoped>\n",
       "    .dataframe tbody tr th:only-of-type {\n",
       "        vertical-align: middle;\n",
       "    }\n",
       "\n",
       "    .dataframe tbody tr th {\n",
       "        vertical-align: top;\n",
       "    }\n",
       "\n",
       "    .dataframe thead th {\n",
       "        text-align: right;\n",
       "    }\n",
       "</style>\n",
       "<table border=\"1\" class=\"dataframe\">\n",
       "  <thead>\n",
       "    <tr style=\"text-align: right;\">\n",
       "      <th></th>\n",
       "      <th>playerID</th>\n",
       "      <th>yearID</th>\n",
       "      <th>gameID</th>\n",
       "    </tr>\n",
       "  </thead>\n",
       "  <tbody>\n",
       "    <tr>\n",
       "      <th>3140</th>\n",
       "      <td>saberbr01</td>\n",
       "      <td>1987</td>\n",
       "      <td>ALS198707140</td>\n",
       "    </tr>\n",
       "    <tr>\n",
       "      <th>3141</th>\n",
       "      <td>kennete02</td>\n",
       "      <td>1987</td>\n",
       "      <td>ALS198707140</td>\n",
       "    </tr>\n",
       "    <tr>\n",
       "      <th>3142</th>\n",
       "      <td>mattido01</td>\n",
       "      <td>1987</td>\n",
       "      <td>ALS198707140</td>\n",
       "    </tr>\n",
       "    <tr>\n",
       "      <th>3143</th>\n",
       "      <td>randowi01</td>\n",
       "      <td>1987</td>\n",
       "      <td>ALS198707140</td>\n",
       "    </tr>\n",
       "    <tr>\n",
       "      <th>3144</th>\n",
       "      <td>boggswa01</td>\n",
       "      <td>1987</td>\n",
       "      <td>ALS198707140</td>\n",
       "    </tr>\n",
       "  </tbody>\n",
       "</table>\n",
       "</div>"
      ],
      "text/plain": [
       "       playerID  yearID        gameID\n",
       "3140  saberbr01    1987  ALS198707140\n",
       "3141  kennete02    1987  ALS198707140\n",
       "3142  mattido01    1987  ALS198707140\n",
       "3143  randowi01    1987  ALS198707140\n",
       "3144  boggswa01    1987  ALS198707140"
      ]
     },
     "execution_count": 4,
     "metadata": {},
     "output_type": "execute_result"
    }
   ],
   "source": [
    "allstars.head()"
   ]
  },
  {
   "cell_type": "markdown",
   "metadata": {},
   "source": [
    "These data are merged to create one DataFrame object. All players, regardless of whether they were ever an All-Star, should be included; therefore, a left join with the pitching statisctics dataframe as the first frame is utilized. The two frames are joined on both playerID and yearID, such that players' stats align with the respective season in which they were accumulated. "
   ]
  },
  {
   "cell_type": "code",
   "execution_count": 5,
   "metadata": {},
   "outputs": [],
   "source": [
    "merged = pd.merge(pitching, allstars, on = ['playerID', 'yearID'], how = 'left')"
   ]
  },
  {
   "cell_type": "markdown",
   "metadata": {},
   "source": [
    "A new variable of interest is introduced, All-Star, which is binary based on whether there is a value in the all-star 'GameID' column. "
   ]
  },
  {
   "cell_type": "code",
   "execution_count": 6,
   "metadata": {},
   "outputs": [],
   "source": [
    "merged['All-Star'] = np.where(merged['gameID'].notnull() , True, False)"
   ]
  },
  {
   "cell_type": "markdown",
   "metadata": {},
   "source": [
    "The All-Star GameID column, as well as the playerID and yearID columns, are dropped since these data are not considered relevant to determining a player's All-Star bid."
   ]
  },
  {
   "cell_type": "code",
   "execution_count": 7,
   "metadata": {},
   "outputs": [],
   "source": [
    "merged = merged.drop(['gameID', 'playerID', 'yearID'], axis = 1)"
   ]
  },
  {
   "cell_type": "code",
   "execution_count": 8,
   "metadata": {},
   "outputs": [
    {
     "data": {
      "text/html": [
       "<div>\n",
       "<style scoped>\n",
       "    .dataframe tbody tr th:only-of-type {\n",
       "        vertical-align: middle;\n",
       "    }\n",
       "\n",
       "    .dataframe tbody tr th {\n",
       "        vertical-align: top;\n",
       "    }\n",
       "\n",
       "    .dataframe thead th {\n",
       "        text-align: right;\n",
       "    }\n",
       "</style>\n",
       "<table border=\"1\" class=\"dataframe\">\n",
       "  <thead>\n",
       "    <tr style=\"text-align: right;\">\n",
       "      <th></th>\n",
       "      <th>W</th>\n",
       "      <th>L</th>\n",
       "      <th>G</th>\n",
       "      <th>CG</th>\n",
       "      <th>SHO</th>\n",
       "      <th>H</th>\n",
       "      <th>ER</th>\n",
       "      <th>HR</th>\n",
       "      <th>BB</th>\n",
       "      <th>SO</th>\n",
       "      <th>ERA</th>\n",
       "      <th>BFP</th>\n",
       "      <th>R</th>\n",
       "      <th>IP</th>\n",
       "      <th>WHIP</th>\n",
       "      <th>K%</th>\n",
       "      <th>BB%</th>\n",
       "      <th>K%-BB%</th>\n",
       "      <th>All-Star</th>\n",
       "    </tr>\n",
       "  </thead>\n",
       "  <tbody>\n",
       "    <tr>\n",
       "      <th>0</th>\n",
       "      <td>12</td>\n",
       "      <td>12</td>\n",
       "      <td>29</td>\n",
       "      <td>4</td>\n",
       "      <td>2</td>\n",
       "      <td>190</td>\n",
       "      <td>79</td>\n",
       "      <td>13</td>\n",
       "      <td>74</td>\n",
       "      <td>115</td>\n",
       "      <td>3.92</td>\n",
       "      <td>788.0</td>\n",
       "      <td>95</td>\n",
       "      <td>181.333333</td>\n",
       "      <td>1.455882</td>\n",
       "      <td>0.145939</td>\n",
       "      <td>0.093909</td>\n",
       "      <td>0.052030</td>\n",
       "      <td>False</td>\n",
       "    </tr>\n",
       "    <tr>\n",
       "      <th>1</th>\n",
       "      <td>10</td>\n",
       "      <td>14</td>\n",
       "      <td>33</td>\n",
       "      <td>4</td>\n",
       "      <td>1</td>\n",
       "      <td>246</td>\n",
       "      <td>106</td>\n",
       "      <td>16</td>\n",
       "      <td>72</td>\n",
       "      <td>105</td>\n",
       "      <td>4.51</td>\n",
       "      <td>925.0</td>\n",
       "      <td>116</td>\n",
       "      <td>211.666667</td>\n",
       "      <td>1.502362</td>\n",
       "      <td>0.113514</td>\n",
       "      <td>0.077838</td>\n",
       "      <td>0.035676</td>\n",
       "      <td>False</td>\n",
       "    </tr>\n",
       "    <tr>\n",
       "      <th>2</th>\n",
       "      <td>18</td>\n",
       "      <td>11</td>\n",
       "      <td>34</td>\n",
       "      <td>5</td>\n",
       "      <td>1</td>\n",
       "      <td>222</td>\n",
       "      <td>78</td>\n",
       "      <td>14</td>\n",
       "      <td>73</td>\n",
       "      <td>158</td>\n",
       "      <td>2.89</td>\n",
       "      <td>1002.0</td>\n",
       "      <td>85</td>\n",
       "      <td>243.000000</td>\n",
       "      <td>1.213992</td>\n",
       "      <td>0.157685</td>\n",
       "      <td>0.072854</td>\n",
       "      <td>0.084830</td>\n",
       "      <td>False</td>\n",
       "    </tr>\n",
       "    <tr>\n",
       "      <th>3</th>\n",
       "      <td>7</td>\n",
       "      <td>15</td>\n",
       "      <td>29</td>\n",
       "      <td>7</td>\n",
       "      <td>0</td>\n",
       "      <td>208</td>\n",
       "      <td>65</td>\n",
       "      <td>12</td>\n",
       "      <td>68</td>\n",
       "      <td>130</td>\n",
       "      <td>2.77</td>\n",
       "      <td>874.0</td>\n",
       "      <td>73</td>\n",
       "      <td>211.000000</td>\n",
       "      <td>1.308057</td>\n",
       "      <td>0.148741</td>\n",
       "      <td>0.077803</td>\n",
       "      <td>0.070938</td>\n",
       "      <td>False</td>\n",
       "    </tr>\n",
       "    <tr>\n",
       "      <th>4</th>\n",
       "      <td>11</td>\n",
       "      <td>14</td>\n",
       "      <td>32</td>\n",
       "      <td>4</td>\n",
       "      <td>1</td>\n",
       "      <td>221</td>\n",
       "      <td>104</td>\n",
       "      <td>22</td>\n",
       "      <td>73</td>\n",
       "      <td>95</td>\n",
       "      <td>4.37</td>\n",
       "      <td>906.0</td>\n",
       "      <td>115</td>\n",
       "      <td>214.000000</td>\n",
       "      <td>1.373832</td>\n",
       "      <td>0.104857</td>\n",
       "      <td>0.080574</td>\n",
       "      <td>0.024283</td>\n",
       "      <td>False</td>\n",
       "    </tr>\n",
       "    <tr>\n",
       "      <th>...</th>\n",
       "      <td>...</td>\n",
       "      <td>...</td>\n",
       "      <td>...</td>\n",
       "      <td>...</td>\n",
       "      <td>...</td>\n",
       "      <td>...</td>\n",
       "      <td>...</td>\n",
       "      <td>...</td>\n",
       "      <td>...</td>\n",
       "      <td>...</td>\n",
       "      <td>...</td>\n",
       "      <td>...</td>\n",
       "      <td>...</td>\n",
       "      <td>...</td>\n",
       "      <td>...</td>\n",
       "      <td>...</td>\n",
       "      <td>...</td>\n",
       "      <td>...</td>\n",
       "      <td>...</td>\n",
       "    </tr>\n",
       "    <tr>\n",
       "      <th>2095</th>\n",
       "      <td>11</td>\n",
       "      <td>13</td>\n",
       "      <td>34</td>\n",
       "      <td>0</td>\n",
       "      <td>0</td>\n",
       "      <td>182</td>\n",
       "      <td>99</td>\n",
       "      <td>24</td>\n",
       "      <td>83</td>\n",
       "      <td>131</td>\n",
       "      <td>4.53</td>\n",
       "      <td>850.0</td>\n",
       "      <td>105</td>\n",
       "      <td>196.666667</td>\n",
       "      <td>1.347458</td>\n",
       "      <td>0.154118</td>\n",
       "      <td>0.097647</td>\n",
       "      <td>0.056471</td>\n",
       "      <td>False</td>\n",
       "    </tr>\n",
       "    <tr>\n",
       "      <th>2096</th>\n",
       "      <td>10</td>\n",
       "      <td>17</td>\n",
       "      <td>32</td>\n",
       "      <td>0</td>\n",
       "      <td>0</td>\n",
       "      <td>186</td>\n",
       "      <td>103</td>\n",
       "      <td>16</td>\n",
       "      <td>102</td>\n",
       "      <td>120</td>\n",
       "      <td>5.15</td>\n",
       "      <td>818.0</td>\n",
       "      <td>115</td>\n",
       "      <td>180.000000</td>\n",
       "      <td>1.600000</td>\n",
       "      <td>0.146699</td>\n",
       "      <td>0.124694</td>\n",
       "      <td>0.022005</td>\n",
       "      <td>False</td>\n",
       "    </tr>\n",
       "    <tr>\n",
       "      <th>2097</th>\n",
       "      <td>10</td>\n",
       "      <td>13</td>\n",
       "      <td>33</td>\n",
       "      <td>1</td>\n",
       "      <td>0</td>\n",
       "      <td>179</td>\n",
       "      <td>86</td>\n",
       "      <td>21</td>\n",
       "      <td>81</td>\n",
       "      <td>154</td>\n",
       "      <td>4.03</td>\n",
       "      <td>818.0</td>\n",
       "      <td>89</td>\n",
       "      <td>192.000000</td>\n",
       "      <td>1.354167</td>\n",
       "      <td>0.188264</td>\n",
       "      <td>0.099022</td>\n",
       "      <td>0.089242</td>\n",
       "      <td>False</td>\n",
       "    </tr>\n",
       "    <tr>\n",
       "      <th>2098</th>\n",
       "      <td>9</td>\n",
       "      <td>14</td>\n",
       "      <td>34</td>\n",
       "      <td>1</td>\n",
       "      <td>0</td>\n",
       "      <td>184</td>\n",
       "      <td>92</td>\n",
       "      <td>20</td>\n",
       "      <td>84</td>\n",
       "      <td>150</td>\n",
       "      <td>4.15</td>\n",
       "      <td>848.0</td>\n",
       "      <td>97</td>\n",
       "      <td>199.333333</td>\n",
       "      <td>1.344482</td>\n",
       "      <td>0.176887</td>\n",
       "      <td>0.099057</td>\n",
       "      <td>0.077830</td>\n",
       "      <td>False</td>\n",
       "    </tr>\n",
       "    <tr>\n",
       "      <th>2099</th>\n",
       "      <td>15</td>\n",
       "      <td>8</td>\n",
       "      <td>32</td>\n",
       "      <td>1</td>\n",
       "      <td>1</td>\n",
       "      <td>186</td>\n",
       "      <td>85</td>\n",
       "      <td>20</td>\n",
       "      <td>70</td>\n",
       "      <td>114</td>\n",
       "      <td>4.15</td>\n",
       "      <td>799.0</td>\n",
       "      <td>91</td>\n",
       "      <td>184.333333</td>\n",
       "      <td>1.388788</td>\n",
       "      <td>0.142678</td>\n",
       "      <td>0.087610</td>\n",
       "      <td>0.055069</td>\n",
       "      <td>False</td>\n",
       "    </tr>\n",
       "  </tbody>\n",
       "</table>\n",
       "<p>2100 rows × 19 columns</p>\n",
       "</div>"
      ],
      "text/plain": [
       "       W   L   G  CG  SHO    H   ER  HR   BB   SO   ERA     BFP    R  \\\n",
       "0     12  12  29   4    2  190   79  13   74  115  3.92   788.0   95   \n",
       "1     10  14  33   4    1  246  106  16   72  105  4.51   925.0  116   \n",
       "2     18  11  34   5    1  222   78  14   73  158  2.89  1002.0   85   \n",
       "3      7  15  29   7    0  208   65  12   68  130  2.77   874.0   73   \n",
       "4     11  14  32   4    1  221  104  22   73   95  4.37   906.0  115   \n",
       "...   ..  ..  ..  ..  ...  ...  ...  ..  ...  ...   ...     ...  ...   \n",
       "2095  11  13  34   0    0  182   99  24   83  131  4.53   850.0  105   \n",
       "2096  10  17  32   0    0  186  103  16  102  120  5.15   818.0  115   \n",
       "2097  10  13  33   1    0  179   86  21   81  154  4.03   818.0   89   \n",
       "2098   9  14  34   1    0  184   92  20   84  150  4.15   848.0   97   \n",
       "2099  15   8  32   1    1  186   85  20   70  114  4.15   799.0   91   \n",
       "\n",
       "              IP      WHIP        K%       BB%    K%-BB%  All-Star  \n",
       "0     181.333333  1.455882  0.145939  0.093909  0.052030     False  \n",
       "1     211.666667  1.502362  0.113514  0.077838  0.035676     False  \n",
       "2     243.000000  1.213992  0.157685  0.072854  0.084830     False  \n",
       "3     211.000000  1.308057  0.148741  0.077803  0.070938     False  \n",
       "4     214.000000  1.373832  0.104857  0.080574  0.024283     False  \n",
       "...          ...       ...       ...       ...       ...       ...  \n",
       "2095  196.666667  1.347458  0.154118  0.097647  0.056471     False  \n",
       "2096  180.000000  1.600000  0.146699  0.124694  0.022005     False  \n",
       "2097  192.000000  1.354167  0.188264  0.099022  0.089242     False  \n",
       "2098  199.333333  1.344482  0.176887  0.099057  0.077830     False  \n",
       "2099  184.333333  1.388788  0.142678  0.087610  0.055069     False  \n",
       "\n",
       "[2100 rows x 19 columns]"
      ]
     },
     "execution_count": 8,
     "metadata": {},
     "output_type": "execute_result"
    }
   ],
   "source": [
    "merged"
   ]
  },
  {
   "cell_type": "markdown",
   "metadata": {},
   "source": [
    "Packages necessary for visualizing analysis results are imported. "
   ]
  },
  {
   "cell_type": "code",
   "execution_count": 9,
   "metadata": {},
   "outputs": [],
   "source": [
    "import matplotlib as mpl\n",
    "import matplotlib.pyplot as plt\n",
    "import seaborn as sns\n",
    "import sklearn as skl\n",
    "%matplotlib inline\n"
   ]
  },
  {
   "cell_type": "markdown",
   "metadata": {},
   "source": [
    "Data are split into input features and outcome variable. "
   ]
  },
  {
   "cell_type": "code",
   "execution_count": 10,
   "metadata": {},
   "outputs": [],
   "source": [
    "merged_x = merged.drop('All-Star', 1)\n",
    "merged_y = merged['All-Star']"
   ]
  },
  {
   "cell_type": "markdown",
   "metadata": {},
   "source": [
    "Data are split into training and test sets."
   ]
  },
  {
   "cell_type": "code",
   "execution_count": 11,
   "metadata": {},
   "outputs": [],
   "source": [
    "from sklearn.model_selection import train_test_split\n",
    "\n",
    "merged_x_train, merged_x_test, merged_y_train, merged_y_test = train_test_split(merged_x, merged_y, random_state = 42, train_size = 0.7)"
   ]
  },
  {
   "cell_type": "markdown",
   "metadata": {},
   "source": [
    "Proper data split is ensured. "
   ]
  },
  {
   "cell_type": "code",
   "execution_count": 12,
   "metadata": {},
   "outputs": [
    {
     "name": "stdout",
     "output_type": "stream",
     "text": [
      "2100 1470 630\n"
     ]
    }
   ],
   "source": [
    "print(len(merged_x), len(merged_x_train), len(merged_x_test))"
   ]
  },
  {
   "cell_type": "markdown",
   "metadata": {},
   "source": [
    "Decision Tree Classifier is learned. Since a vast majority of players are not All-Stars, I let the classifier know that it needs to handle this class imbalance problem using class_weight='balanced'."
   ]
  },
  {
   "cell_type": "code",
   "execution_count": 13,
   "metadata": {},
   "outputs": [
    {
     "data": {
      "text/plain": [
       "DecisionTreeClassifier(class_weight='balanced')"
      ]
     },
     "execution_count": 13,
     "metadata": {},
     "output_type": "execute_result"
    }
   ],
   "source": [
    "from sklearn.tree import DecisionTreeClassifier\n",
    "\n",
    "dec_tree_model = DecisionTreeClassifier(class_weight='balanced')\n",
    "\n",
    "dec_tree_model.fit(merged_x_train, merged_y_train)"
   ]
  },
  {
   "cell_type": "markdown",
   "metadata": {},
   "source": [
    "Cross-validation is used to select the model parameters: how deep the decision tree should be built and how many features should be considered when splitting a decision tree node."
   ]
  },
  {
   "cell_type": "code",
   "execution_count": 14,
   "metadata": {},
   "outputs": [
    {
     "name": "stdout",
     "output_type": "stream",
     "text": [
      "{'max_depth': 5, 'max_features': 'log2'}\n"
     ]
    }
   ],
   "source": [
    "from sklearn.model_selection import GridSearchCV\n",
    "\n",
    "\n",
    "params = {'max_depth':[3,4,5],\n",
    "          'max_features':['auto','log2', None]}\n",
    "\n",
    "\n",
    "grid_search_dec_tree = GridSearchCV(dec_tree_model, \n",
    "                                    param_grid=params, \n",
    "                                   cv=3, \n",
    "                                   n_jobs = 1 \n",
    "                                   )\n",
    "\n",
    "grid_search_dec_tree.fit(merged_x_train, merged_y_train)\n",
    "\n",
    "best_dec_tree_cv = grid_search_dec_tree.best_estimator_\n",
    "\n",
    "print(grid_search_dec_tree.best_params_)"
   ]
  },
  {
   "cell_type": "markdown",
   "metadata": {},
   "source": [
    "Performance of the best model is evaluated on the test data and the accuracy score is printed. "
   ]
  },
  {
   "cell_type": "code",
   "execution_count": 15,
   "metadata": {},
   "outputs": [
    {
     "name": "stdout",
     "output_type": "stream",
     "text": [
      "The accuracy score is 0.6984126984126984\n"
     ]
    }
   ],
   "source": [
    "import sklearn.metrics as sklmetrics\n",
    "\n",
    "merged_y_pred = best_dec_tree_cv.predict(merged_x_test)\n",
    "\n",
    "\n",
    "print('The accuracy score is {}'.format(sklmetrics.accuracy_score(merged_y_test, merged_y_pred)))"
   ]
  },
  {
   "cell_type": "markdown",
   "metadata": {},
   "source": [
    "Confusion matrix is used to display the results. "
   ]
  },
  {
   "cell_type": "code",
   "execution_count": 16,
   "metadata": {},
   "outputs": [
    {
     "name": "stdout",
     "output_type": "stream",
     "text": [
      "[[383 158]\n",
      " [ 32  57]]\n"
     ]
    },
    {
     "data": {
      "text/plain": [
       "Text(91.68, 0.5, 'True Value')"
      ]
     },
     "execution_count": 16,
     "metadata": {},
     "output_type": "execute_result"
    },
    {
     "data": {
      "image/png": "[encoded data removed]",
      "text/plain": [
       "<Figure size 432x288 with 1 Axes>"
      ]
     },
     "metadata": {
      "needs_background": "light"
     },
     "output_type": "display_data"
    }
   ],
   "source": [
    "conf_mat = sklmetrics.confusion_matrix(merged_y_test, merged_y_pred)\n",
    "print(conf_mat)\n",
    "\n",
    "\n",
    "sns.heatmap(conf_mat, fmt='d',square=True, annot=True, cbar = False, xticklabels = ['Not All-Star','All-Star'], \n",
    "                                                            yticklabels = ['Not All-Star','All-Star'])\n",
    "plt.xlabel(\"Predicted Value\")\n",
    "plt.ylabel(\"True Value\")"
   ]
  },
  {
   "cell_type": "markdown",
   "metadata": {},
   "source": [
    "Function to plot the feature importance for decision trees is defined. "
   ]
  },
  {
   "cell_type": "code",
   "execution_count": 17,
   "metadata": {},
   "outputs": [
    {
     "data": {
      "image/png": "[encoded data removed]",
      "text/plain": [
       "<Figure size 720x432 with 1 Axes>"
      ]
     },
     "metadata": {
      "needs_background": "light"
     },
     "output_type": "display_data"
    }
   ],
   "source": [
    "def plot_feature_importance(model, Xnames, cls_nm = None):\n",
    "\n",
    "    imp_features = pd.DataFrame(np.column_stack((Xnames, model.feature_importances_)), columns = ['feature', 'importance'])\n",
    "    imp_features[['importance']] = imp_features[['importance']].astype(float)\n",
    "    imp_features[['abs_importance']] = imp_features[['importance']].abs()\n",
    "    imp_features = imp_features.sort_values(by = ['abs_importance'], ascending = [1])\n",
    "    imp_features = imp_features.iloc[10:]\n",
    "    plt.figure(figsize=(10,6))\n",
    "    plt.title(cls_nm + \" - Feature Importance\")\n",
    "    plt.barh(range(imp_features.shape[0]), imp_features['importance'],\n",
    "            color=\"b\", align=\"center\")\n",
    "    plt.yticks(range(imp_features.shape[0]), imp_features['feature'], )\n",
    "    plt.ylim([-1, imp_features.shape[0]])\n",
    "    plt.xlabel('Importance')\n",
    "    plt.ylabel('Feature')\n",
    "    plt.tight_layout() \n",
    "    plt.savefig(cls_nm + \"_feature_imp.png\", bbox_inches='tight')\n",
    "    plt.show()\n",
    "\n",
    "plot_feature_importance(best_dec_tree_cv, merged_x.columns, cls_nm='Decision Tree')"
   ]
  },
  {
   "cell_type": "markdown",
   "metadata": {},
   "source": [
    "To supplement my Decision Tree results, I also include a Logistic Regression model and follow the same steps as above. "
   ]
  },
  {
   "cell_type": "markdown",
   "metadata": {},
   "source": []
  },
  {
   "cell_type": "code",
   "execution_count": 18,
   "metadata": {},
   "outputs": [],
   "source": [
    "from sklearn.linear_model import LogisticRegression"
   ]
  },
  {
   "cell_type": "code",
   "execution_count": 19,
   "metadata": {},
   "outputs": [
    {
     "name": "stdout",
     "output_type": "stream",
     "text": [
      "{'C': 0.1, 'penalty': 'l2'}\n"
     ]
    }
   ],
   "source": [
    "params = {'penalty': ['l1', 'l2'],\n",
    "         'C': [0.0001, 0.001, 0.01, 0.1, 1, 10, 100, 1000, 10000]}\n",
    "\n",
    "model = LogisticRegression(class_weight='balanced', max_iter = 700)\n",
    "\n",
    "grid_search_log_reg = GridSearchCV(model, \n",
    "                                    param_grid=params,  \n",
    "                                   cv=10, \n",
    "                                   n_jobs = 2  \n",
    "                                   )\n",
    "\n",
    "grid_search_log_reg.fit(merged_x_train, merged_y_train)\n",
    "\n",
    "best_log_reg = grid_search_log_reg.best_estimator_\n",
    "\n",
    "print(grid_search_log_reg.best_params_)"
   ]
  },
  {
   "cell_type": "code",
   "execution_count": 20,
   "metadata": {},
   "outputs": [
    {
     "name": "stdout",
     "output_type": "stream",
     "text": [
      "The accuracy score is 0.8095238095238095\n"
     ]
    }
   ],
   "source": [
    "merged_pred_Y = best_log_reg.predict(merged_x_test)\n",
    "\n",
    "print('The accuracy score is {}'.format(sklmetrics.accuracy_score(merged_y_test, merged_pred_Y)))"
   ]
  },
  {
   "cell_type": "code",
   "execution_count": 21,
   "metadata": {},
   "outputs": [
    {
     "name": "stdout",
     "output_type": "stream",
     "text": [
      "[[446  95]\n",
      " [ 25  64]]\n"
     ]
    },
    {
     "data": {
      "text/plain": [
       "Text(91.68, 0.5, 'True Value')"
      ]
     },
     "execution_count": 21,
     "metadata": {},
     "output_type": "execute_result"
    },
    {
     "data": {
      "image/png": "[encoded data removed]",
      "text/plain": [
       "<Figure size 432x288 with 1 Axes>"
      ]
     },
     "metadata": {
      "needs_background": "light"
     },
     "output_type": "display_data"
    }
   ],
   "source": [
    "conf_mat = sklmetrics.confusion_matrix(merged_y_test, merged_pred_Y)\n",
    "print(conf_mat)\n",
    "\n",
    "sns.heatmap(conf_mat, fmt='d',square=True, annot=True, cbar = False, xticklabels = ['Not All-Star','All-Star'], \n",
    "                                                            yticklabels = ['Not All-Star','All-Star'])\n",
    "plt.xlabel(\"Predicted Value\")\n",
    "plt.ylabel(\"True Value\")"
   ]
  },
  {
   "cell_type": "code",
   "execution_count": 22,
   "metadata": {},
   "outputs": [],
   "source": [
    "def plot_feature_importance_coeff(model, Xnames, cls_nm = None):\n",
    "\n",
    "    imp_features = pd.DataFrame(np.column_stack((Xnames, model.coef_.ravel())), columns = ['feature', 'importance'])\n",
    "    imp_features[['importance']] = imp_features[['importance']].astype(float)\n",
    "    imp_features[['abs_importance']] = imp_features[['importance']].abs()\n",
    "    imp_features = imp_features.sort_values(by = ['abs_importance'], ascending = [1])\n",
    "    plt.figure(figsize=(10,6))\n",
    "    plt.title(cls_nm + \" - Feature Importance\")\n",
    "    plt.barh(range(imp_features.shape[0]), imp_features['importance'],\n",
    "            color=\"b\", align=\"center\")\n",
    "    plt.yticks(range(imp_features.shape[0]), imp_features['feature'], )\n",
    "    plt.ylim([-1, imp_features.shape[0]])\n",
    "    plt.xlabel('Importance')\n",
    "    plt.ylabel('Feature')\n",
    "    plt.tight_layout() \n",
    "    plt.savefig(cls_nm + \"_feature_imp.png\", bbox_inches='tight')\n",
    "    plt.show()"
   ]
  },
  {
   "cell_type": "code",
   "execution_count": 23,
   "metadata": {},
   "outputs": [
    {
     "data": {
      "image/png": "[encoded data removed]",
      "text/plain": [
       "<Figure size 720x432 with 1 Axes>"
      ]
     },
     "metadata": {
      "needs_background": "light"
     },
     "output_type": "display_data"
    }
   ],
   "source": [
    "plot_feature_importance_coeff(best_log_reg, merged_x_train.columns, cls_nm=\"Logistic Regression\")"
   ]
  }
 ],
 "metadata": {
  "kernelspec": {
   "display_name": "Python 3",
   "language": "python",
   "name": "python3"
  },
  "language_info": {
   "codemirror_mode": {
    "name": "ipython",
    "version": 3
   },
   "file_extension": ".py",
   "mimetype": "text/x-python",
   "name": "python",
   "nbconvert_exporter": "python",
   "pygments_lexer": "ipython3",
   "version": "3.8.3"
  }
 },
 "nbformat": 4,
 "nbformat_minor": 4
}
