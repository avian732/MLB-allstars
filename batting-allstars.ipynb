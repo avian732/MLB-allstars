{
 "cells": [
  {
   "cell_type": "code",
   "execution_count": 1,
   "metadata": {},
   "outputs": [],
   "source": [
    "import numpy as np\n",
    "import pandas as pd\n",
    "\n",
    "batting = pd.read_csv('./Data/Batting.csv')"
   ]
  },
  {
   "cell_type": "code",
   "execution_count": 2,
   "metadata": {},
   "outputs": [],
   "source": [
    "batting = batting[ (batting['yearID'] >=1987) & (batting['yearID'] <=2012)]\n",
    "batting = batting [ (batting['AB'] > 100) & (batting['G'] > 81)]\n",
    "batting = batting.drop(['stint', 'teamID', 'lgID', 'G_batting', 'G_old'], axis = 1)"
   ]
  },
  {
   "cell_type": "code",
   "execution_count": 3,
   "metadata": {},
   "outputs": [],
   "source": [
    "allstars = pd.read_csv('./Data/AllstarFull.csv')\n",
    "allstars = allstars[ (allstars['yearID'] >=1987) & (allstars['yearID'] <=2012)]\n",
    "allstars = allstars[['playerID', 'yearID', 'gameID']]"
   ]
  },
  {
   "cell_type": "code",
   "execution_count": 4,
   "metadata": {},
   "outputs": [],
   "source": [
    "merged = pd.merge(batting, allstars, how = 'left', on = ['playerID', 'yearID'])"
   ]
  },
  {
   "cell_type": "code",
   "execution_count": 5,
   "metadata": {},
   "outputs": [],
   "source": [
    "merged['All-Star'] = np.where(merged['gameID'].notnull() , True, False)"
   ]
  },
  {
   "cell_type": "code",
   "execution_count": 6,
   "metadata": {},
   "outputs": [
    {
     "data": {
      "text/html": [
       "<div>\n",
       "<style scoped>\n",
       "    .dataframe tbody tr th:only-of-type {\n",
       "        vertical-align: middle;\n",
       "    }\n",
       "\n",
       "    .dataframe tbody tr th {\n",
       "        vertical-align: top;\n",
       "    }\n",
       "\n",
       "    .dataframe thead th {\n",
       "        text-align: right;\n",
       "    }\n",
       "</style>\n",
       "<table border=\"1\" class=\"dataframe\">\n",
       "  <thead>\n",
       "    <tr style=\"text-align: right;\">\n",
       "      <th></th>\n",
       "      <th>AB</th>\n",
       "      <th>R</th>\n",
       "      <th>H</th>\n",
       "      <th>2B</th>\n",
       "      <th>3B</th>\n",
       "      <th>HR</th>\n",
       "      <th>RBI</th>\n",
       "      <th>SB</th>\n",
       "      <th>BB</th>\n",
       "      <th>SO</th>\n",
       "      <th>All-Star</th>\n",
       "      <th>1B</th>\n",
       "      <th>SLG</th>\n",
       "      <th>AVG</th>\n",
       "      <th>OBP</th>\n",
       "      <th>ISO</th>\n",
       "      <th>OPS</th>\n",
       "    </tr>\n",
       "  </thead>\n",
       "  <tbody>\n",
       "    <tr>\n",
       "      <th>0</th>\n",
       "      <td>244.0</td>\n",
       "      <td>33.0</td>\n",
       "      <td>68.0</td>\n",
       "      <td>14.0</td>\n",
       "      <td>1.0</td>\n",
       "      <td>12.0</td>\n",
       "      <td>41.0</td>\n",
       "      <td>3.0</td>\n",
       "      <td>9.0</td>\n",
       "      <td>28.0</td>\n",
       "      <td>False</td>\n",
       "      <td>41.0</td>\n",
       "      <td>0.491803</td>\n",
       "      <td>0.278689</td>\n",
       "      <td>0.298450</td>\n",
       "      <td>0.213115</td>\n",
       "      <td>0.790253</td>\n",
       "    </tr>\n",
       "    <tr>\n",
       "      <th>1</th>\n",
       "      <td>345.0</td>\n",
       "      <td>41.0</td>\n",
       "      <td>86.0</td>\n",
       "      <td>17.0</td>\n",
       "      <td>3.0</td>\n",
       "      <td>9.0</td>\n",
       "      <td>33.0</td>\n",
       "      <td>3.0</td>\n",
       "      <td>16.0</td>\n",
       "      <td>98.0</td>\n",
       "      <td>False</td>\n",
       "      <td>57.0</td>\n",
       "      <td>0.394203</td>\n",
       "      <td>0.249275</td>\n",
       "      <td>0.290761</td>\n",
       "      <td>0.144928</td>\n",
       "      <td>0.684964</td>\n",
       "    </tr>\n",
       "    <tr>\n",
       "      <th>2</th>\n",
       "      <td>420.0</td>\n",
       "      <td>60.0</td>\n",
       "      <td>107.0</td>\n",
       "      <td>18.0</td>\n",
       "      <td>7.0</td>\n",
       "      <td>17.0</td>\n",
       "      <td>60.0</td>\n",
       "      <td>4.0</td>\n",
       "      <td>36.0</td>\n",
       "      <td>110.0</td>\n",
       "      <td>False</td>\n",
       "      <td>65.0</td>\n",
       "      <td>0.452381</td>\n",
       "      <td>0.254762</td>\n",
       "      <td>0.317597</td>\n",
       "      <td>0.197619</td>\n",
       "      <td>0.769978</td>\n",
       "    </tr>\n",
       "    <tr>\n",
       "      <th>3</th>\n",
       "      <td>320.0</td>\n",
       "      <td>37.0</td>\n",
       "      <td>81.0</td>\n",
       "      <td>18.0</td>\n",
       "      <td>7.0</td>\n",
       "      <td>8.0</td>\n",
       "      <td>33.0</td>\n",
       "      <td>3.0</td>\n",
       "      <td>22.0</td>\n",
       "      <td>99.0</td>\n",
       "      <td>False</td>\n",
       "      <td>48.0</td>\n",
       "      <td>0.428125</td>\n",
       "      <td>0.253125</td>\n",
       "      <td>0.307246</td>\n",
       "      <td>0.175000</td>\n",
       "      <td>0.735371</td>\n",
       "    </tr>\n",
       "    <tr>\n",
       "      <th>4</th>\n",
       "      <td>252.0</td>\n",
       "      <td>35.0</td>\n",
       "      <td>69.0</td>\n",
       "      <td>18.0</td>\n",
       "      <td>2.0</td>\n",
       "      <td>6.0</td>\n",
       "      <td>30.0</td>\n",
       "      <td>3.0</td>\n",
       "      <td>14.0</td>\n",
       "      <td>68.0</td>\n",
       "      <td>False</td>\n",
       "      <td>43.0</td>\n",
       "      <td>0.432540</td>\n",
       "      <td>0.273810</td>\n",
       "      <td>0.314607</td>\n",
       "      <td>0.158730</td>\n",
       "      <td>0.747146</td>\n",
       "    </tr>\n",
       "    <tr>\n",
       "      <th>...</th>\n",
       "      <td>...</td>\n",
       "      <td>...</td>\n",
       "      <td>...</td>\n",
       "      <td>...</td>\n",
       "      <td>...</td>\n",
       "      <td>...</td>\n",
       "      <td>...</td>\n",
       "      <td>...</td>\n",
       "      <td>...</td>\n",
       "      <td>...</td>\n",
       "      <td>...</td>\n",
       "      <td>...</td>\n",
       "      <td>...</td>\n",
       "      <td>...</td>\n",
       "      <td>...</td>\n",
       "      <td>...</td>\n",
       "      <td>...</td>\n",
       "    </tr>\n",
       "    <tr>\n",
       "      <th>7493</th>\n",
       "      <td>541.0</td>\n",
       "      <td>77.0</td>\n",
       "      <td>129.0</td>\n",
       "      <td>28.0</td>\n",
       "      <td>2.0</td>\n",
       "      <td>10.0</td>\n",
       "      <td>75.0</td>\n",
       "      <td>24.0</td>\n",
       "      <td>92.0</td>\n",
       "      <td>107.0</td>\n",
       "      <td>False</td>\n",
       "      <td>89.0</td>\n",
       "      <td>0.353050</td>\n",
       "      <td>0.238447</td>\n",
       "      <td>0.345679</td>\n",
       "      <td>0.114603</td>\n",
       "      <td>0.698729</td>\n",
       "    </tr>\n",
       "    <tr>\n",
       "      <th>7494</th>\n",
       "      <td>588.0</td>\n",
       "      <td>99.0</td>\n",
       "      <td>158.0</td>\n",
       "      <td>46.0</td>\n",
       "      <td>6.0</td>\n",
       "      <td>20.0</td>\n",
       "      <td>91.0</td>\n",
       "      <td>19.0</td>\n",
       "      <td>77.0</td>\n",
       "      <td>128.0</td>\n",
       "      <td>False</td>\n",
       "      <td>86.0</td>\n",
       "      <td>0.469388</td>\n",
       "      <td>0.268707</td>\n",
       "      <td>0.352679</td>\n",
       "      <td>0.200680</td>\n",
       "      <td>0.822066</td>\n",
       "    </tr>\n",
       "    <tr>\n",
       "      <th>7495</th>\n",
       "      <td>560.0</td>\n",
       "      <td>88.0</td>\n",
       "      <td>151.0</td>\n",
       "      <td>39.0</td>\n",
       "      <td>7.0</td>\n",
       "      <td>20.0</td>\n",
       "      <td>74.0</td>\n",
       "      <td>14.0</td>\n",
       "      <td>97.0</td>\n",
       "      <td>103.0</td>\n",
       "      <td>False</td>\n",
       "      <td>85.0</td>\n",
       "      <td>0.471429</td>\n",
       "      <td>0.269643</td>\n",
       "      <td>0.376877</td>\n",
       "      <td>0.201786</td>\n",
       "      <td>0.848305</td>\n",
       "    </tr>\n",
       "    <tr>\n",
       "      <th>7496</th>\n",
       "      <td>392.0</td>\n",
       "      <td>46.0</td>\n",
       "      <td>108.0</td>\n",
       "      <td>19.0</td>\n",
       "      <td>1.0</td>\n",
       "      <td>3.0</td>\n",
       "      <td>43.0</td>\n",
       "      <td>2.0</td>\n",
       "      <td>25.0</td>\n",
       "      <td>60.0</td>\n",
       "      <td>False</td>\n",
       "      <td>85.0</td>\n",
       "      <td>0.352041</td>\n",
       "      <td>0.275510</td>\n",
       "      <td>0.322353</td>\n",
       "      <td>0.076531</td>\n",
       "      <td>0.674394</td>\n",
       "    </tr>\n",
       "    <tr>\n",
       "      <th>7497</th>\n",
       "      <td>286.0</td>\n",
       "      <td>40.0</td>\n",
       "      <td>69.0</td>\n",
       "      <td>24.0</td>\n",
       "      <td>2.0</td>\n",
       "      <td>2.0</td>\n",
       "      <td>26.0</td>\n",
       "      <td>5.0</td>\n",
       "      <td>27.0</td>\n",
       "      <td>54.0</td>\n",
       "      <td>False</td>\n",
       "      <td>41.0</td>\n",
       "      <td>0.360140</td>\n",
       "      <td>0.241259</td>\n",
       "      <td>0.308176</td>\n",
       "      <td>0.118881</td>\n",
       "      <td>0.668316</td>\n",
       "    </tr>\n",
       "  </tbody>\n",
       "</table>\n",
       "<p>7498 rows × 17 columns</p>\n",
       "</div>"
      ],
      "text/plain": [
       "         AB     R      H    2B   3B    HR   RBI    SB    BB     SO  All-Star  \\\n",
       "0     244.0  33.0   68.0  14.0  1.0  12.0  41.0   3.0   9.0   28.0     False   \n",
       "1     345.0  41.0   86.0  17.0  3.0   9.0  33.0   3.0  16.0   98.0     False   \n",
       "2     420.0  60.0  107.0  18.0  7.0  17.0  60.0   4.0  36.0  110.0     False   \n",
       "3     320.0  37.0   81.0  18.0  7.0   8.0  33.0   3.0  22.0   99.0     False   \n",
       "4     252.0  35.0   69.0  18.0  2.0   6.0  30.0   3.0  14.0   68.0     False   \n",
       "...     ...   ...    ...   ...  ...   ...   ...   ...   ...    ...       ...   \n",
       "7493  541.0  77.0  129.0  28.0  2.0  10.0  75.0  24.0  92.0  107.0     False   \n",
       "7494  588.0  99.0  158.0  46.0  6.0  20.0  91.0  19.0  77.0  128.0     False   \n",
       "7495  560.0  88.0  151.0  39.0  7.0  20.0  74.0  14.0  97.0  103.0     False   \n",
       "7496  392.0  46.0  108.0  19.0  1.0   3.0  43.0   2.0  25.0   60.0     False   \n",
       "7497  286.0  40.0   69.0  24.0  2.0   2.0  26.0   5.0  27.0   54.0     False   \n",
       "\n",
       "        1B       SLG       AVG       OBP       ISO       OPS  \n",
       "0     41.0  0.491803  0.278689  0.298450  0.213115  0.790253  \n",
       "1     57.0  0.394203  0.249275  0.290761  0.144928  0.684964  \n",
       "2     65.0  0.452381  0.254762  0.317597  0.197619  0.769978  \n",
       "3     48.0  0.428125  0.253125  0.307246  0.175000  0.735371  \n",
       "4     43.0  0.432540  0.273810  0.314607  0.158730  0.747146  \n",
       "...    ...       ...       ...       ...       ...       ...  \n",
       "7493  89.0  0.353050  0.238447  0.345679  0.114603  0.698729  \n",
       "7494  86.0  0.469388  0.268707  0.352679  0.200680  0.822066  \n",
       "7495  85.0  0.471429  0.269643  0.376877  0.201786  0.848305  \n",
       "7496  85.0  0.352041  0.275510  0.322353  0.076531  0.674394  \n",
       "7497  41.0  0.360140  0.241259  0.308176  0.118881  0.668316  \n",
       "\n",
       "[7498 rows x 17 columns]"
      ]
     },
     "execution_count": 6,
     "metadata": {},
     "output_type": "execute_result"
    }
   ],
   "source": [
    "merged['1B'] = (merged['H'] - (merged['2B'] + merged['3B'] + merged['HR']))\n",
    "merged['SLG'] = (merged['1B'] + (2*merged['2B']) + (3*merged['3B']) + (4*merged['HR'])) / merged['AB']\n",
    "merged['AVG'] = merged['H'] / merged['AB']\n",
    "merged['OBP'] = (merged['H'] + merged['BB'] + merged['HBP']) / (merged['AB'] + merged['BB'] + merged['HBP'] + merged['SF'])\n",
    "merged['ISO'] = merged['SLG'] - merged['AVG']\n",
    "merged['OPS'] = merged['OBP'] + merged['SLG']\n",
    "merged = merged.drop(['playerID', 'yearID', 'gameID', 'G', 'SF', 'SH', 'HBP', 'GIDP', 'CS', 'IBB'], axis=1)\n",
    "merged"
   ]
  },
  {
   "cell_type": "code",
   "execution_count": 7,
   "metadata": {},
   "outputs": [],
   "source": [
    "import matplotlib as mpl\n",
    "import matplotlib.pyplot as plt\n",
    "import seaborn as sns\n",
    "import sklearn as skl\n",
    "%matplotlib inline\n"
   ]
  },
  {
   "cell_type": "code",
   "execution_count": 8,
   "metadata": {},
   "outputs": [],
   "source": [
    "merged_x = merged.drop('All-Star', 1)\n",
    "merged_y = merged['All-Star']"
   ]
  },
  {
   "cell_type": "code",
   "execution_count": 9,
   "metadata": {},
   "outputs": [],
   "source": [
    "from sklearn.model_selection import train_test_split\n",
    "\n",
    "merged_x_train, merged_x_test, merged_y_train, merged_y_test = train_test_split(merged_x, merged_y, random_state = 42, train_size = 0.7)"
   ]
  },
  {
   "cell_type": "code",
   "execution_count": 10,
   "metadata": {},
   "outputs": [
    {
     "name": "stdout",
     "output_type": "stream",
     "text": [
      "7498 2250 5248\n"
     ]
    }
   ],
   "source": [
    "print(len(merged_x), len(merged_x_test), len(merged_x_train))"
   ]
  },
  {
   "cell_type": "code",
   "execution_count": 11,
   "metadata": {},
   "outputs": [],
   "source": [
    "from sklearn.linear_model import LogisticRegression"
   ]
  },
  {
   "cell_type": "code",
   "execution_count": 12,
   "metadata": {},
   "outputs": [
    {
     "name": "stdout",
     "output_type": "stream",
     "text": [
      "{'C': 10, 'penalty': 'l2'}\n"
     ]
    }
   ],
   "source": [
    "from sklearn.model_selection import GridSearchCV\n",
    "\n",
    "params = {'penalty': ['l1', 'l2'],\n",
    "         'C': [0.01, 0.1, 1, 10]}\n",
    "\n",
    "log_regression_model = LogisticRegression(class_weight='balanced', max_iter = 700)\n",
    "\n",
    "grid_search_log_reg = GridSearchCV(log_regression_model, \n",
    "                                    param_grid=params,  \n",
    "                                   cv=10, \n",
    "                                   n_jobs = 2  \n",
    "                                   )\n",
    "grid_search_log_reg.fit(merged_x_train, merged_y_train)\n",
    "\n",
    "best_log_reg = grid_search_log_reg.best_estimator_\n",
    "\n",
    "print(grid_search_log_reg.best_params_)"
   ]
  },
  {
   "cell_type": "code",
   "execution_count": 13,
   "metadata": {},
   "outputs": [
    {
     "name": "stdout",
     "output_type": "stream",
     "text": [
      "The accuracy score is 0.7875555555555556\n"
     ]
    }
   ],
   "source": [
    "import sklearn.metrics as sklmetrics\n",
    "\n",
    "merged_pred_Y = best_log_reg.predict(merged_x_test)\n",
    "\n",
    "print('The accuracy score is {}'.format(sklmetrics.accuracy_score(merged_y_test, merged_pred_Y)))\n"
   ]
  },
  {
   "cell_type": "code",
   "execution_count": 14,
   "metadata": {},
   "outputs": [
    {
     "name": "stdout",
     "output_type": "stream",
     "text": [
      "[[1526  412]\n",
      " [  66  246]]\n"
     ]
    },
    {
     "data": {
      "text/plain": [
       "Text(91.68, 0.5, 'True Value')"
      ]
     },
     "execution_count": 14,
     "metadata": {},
     "output_type": "execute_result"
    },
    {
     "data": {
      "image/png": "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\n",
      "text/plain": [
       "<Figure size 432x288 with 1 Axes>"
      ]
     },
     "metadata": {
      "needs_background": "light"
     },
     "output_type": "display_data"
    }
   ],
   "source": [
    "conf_mat = sklmetrics.confusion_matrix(merged_y_test, merged_pred_Y)\n",
    "print(conf_mat)\n",
    "\n",
    "sns.heatmap(conf_mat, fmt='d',square=True, annot=True, cbar = False, xticklabels = ['Not All-Star','All-Star'], \n",
    "                                                            yticklabels = ['Not All-Star','All-Star'])\n",
    "plt.xlabel(\"Predicted Value\")\n",
    "plt.ylabel(\"True Value\")"
   ]
  },
  {
   "cell_type": "code",
   "execution_count": 15,
   "metadata": {},
   "outputs": [
    {
     "data": {
      "image/png": "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\n",
      "text/plain": [
       "<Figure size 720x432 with 1 Axes>"
      ]
     },
     "metadata": {
      "needs_background": "light"
     },
     "output_type": "display_data"
    }
   ],
   "source": [
    "def plot_feature_importance_coeff(model, Xnames, cls_nm = None):\n",
    "\n",
    "    imp_features = pd.DataFrame(np.column_stack((Xnames, model.coef_.ravel())), columns = ['feature', 'importance'])\n",
    "    imp_features[['importance']] = imp_features[['importance']].astype(float)\n",
    "    imp_features[['abs_importance']] = imp_features[['importance']].abs()\n",
    "    imp_features = imp_features.sort_values(by = ['abs_importance'], ascending = [1])\n",
    "    plt.figure(figsize=(10,6))\n",
    "    plt.title(cls_nm + \" - Feature Importance\")\n",
    "    plt.barh(range(imp_features.shape[0]), imp_features['importance'],\n",
    "            color=\"b\", align=\"center\")\n",
    "    plt.yticks(range(imp_features.shape[0]), imp_features['feature'], )\n",
    "    plt.ylim([-1, imp_features.shape[0]])\n",
    "    plt.xlabel('Importance')\n",
    "    plt.ylabel('Feature')\n",
    "    plt.tight_layout() \n",
    "    plt.savefig(cls_nm + \"_feature_imp.png\", bbox_inches='tight')\n",
    "    plt.show()\n",
    "    \n",
    "plot_feature_importance_coeff(best_log_reg, merged_x_train.columns, cls_nm=\"Logistic Regression\")"
   ]
  },
  {
   "cell_type": "code",
   "execution_count": 16,
   "metadata": {},
   "outputs": [
    {
     "data": {
      "text/plain": [
       "DecisionTreeClassifier(class_weight='balanced')"
      ]
     },
     "execution_count": 16,
     "metadata": {},
     "output_type": "execute_result"
    }
   ],
   "source": [
    "from sklearn.tree import DecisionTreeClassifier\n",
    "\n",
    "dec_tree_model = DecisionTreeClassifier(class_weight='balanced')\n",
    "\n",
    "dec_tree_model.fit(merged_x_train, merged_y_train)"
   ]
  },
  {
   "cell_type": "code",
   "execution_count": 17,
   "metadata": {},
   "outputs": [
    {
     "name": "stdout",
     "output_type": "stream",
     "text": [
      "{'max_depth': 5, 'max_features': None}\n"
     ]
    }
   ],
   "source": [
    "params = {'max_depth':[3,4,5],\n",
    "          'max_features':['auto','log2',None]}\n",
    "\n",
    "grid_search_dec_tree = GridSearchCV(dec_tree_model, \n",
    "                                    param_grid=params,  \n",
    "                                   cv=3, \n",
    "                                   n_jobs = 1 \n",
    "                                   )\n",
    "\n",
    "grid_search_dec_tree.fit(merged_x_train, merged_y_train)\n",
    "\n",
    "best_dec_tree_cv = grid_search_dec_tree.best_estimator_\n",
    "\n",
    "print(grid_search_dec_tree.best_params_)"
   ]
  },
  {
   "cell_type": "code",
   "execution_count": 18,
   "metadata": {},
   "outputs": [
    {
     "name": "stdout",
     "output_type": "stream",
     "text": [
      "The accuracy score is 0.7613333333333333\n"
     ]
    }
   ],
   "source": [
    "merged_y_pred = best_dec_tree_cv.predict(merged_x_test)\n",
    "\n",
    "print('The accuracy score is {}'.format(sklmetrics.accuracy_score(merged_y_test, merged_y_pred)))\n"
   ]
  },
  {
   "cell_type": "code",
   "execution_count": 19,
   "metadata": {},
   "outputs": [
    {
     "name": "stdout",
     "output_type": "stream",
     "text": [
      "[[1454  484]\n",
      " [  53  259]]\n"
     ]
    },
    {
     "data": {
      "text/plain": [
       "Text(91.68, 0.5, 'True Value')"
      ]
     },
     "execution_count": 19,
     "metadata": {},
     "output_type": "execute_result"
    },
    {
     "data": {
      "image/png": "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\n",
      "text/plain": [
       "<Figure size 432x288 with 1 Axes>"
      ]
     },
     "metadata": {
      "needs_background": "light"
     },
     "output_type": "display_data"
    }
   ],
   "source": [
    "conf_mat = sklmetrics.confusion_matrix(merged_y_test, merged_y_pred)\n",
    "print(conf_mat)\n",
    "\n",
    "sns.heatmap(conf_mat, fmt='d',square=True, annot=True, cbar = False, xticklabels = ['Not All-Star','All-Star'], \n",
    "                                                            yticklabels = ['Not All-Star','All-Star'])\n",
    "plt.xlabel(\"Predicted Value\")\n",
    "plt.ylabel(\"True Value\")"
   ]
  },
  {
   "cell_type": "code",
   "execution_count": 20,
   "metadata": {},
   "outputs": [],
   "source": [
    "def plot_feature_importance(model, Xnames, cls_nm = None):\n",
    "\n",
    "    imp_features = pd.DataFrame(np.column_stack((Xnames, model.feature_importances_)), columns = ['feature', 'importance'])\n",
    "    imp_features[['importance']] = imp_features[['importance']].astype(float)\n",
    "    imp_features[['abs_importance']] = imp_features[['importance']].abs()\n",
    "    imp_features = imp_features.sort_values(by = ['abs_importance'], ascending = [1])\n",
    "    imp_features = imp_features.iloc[10:]\n",
    "    plt.figure(figsize=(10,6))\n",
    "    plt.title(cls_nm + \" - Feature Importance\")\n",
    "    plt.barh(range(imp_features.shape[0]), imp_features['importance'],\n",
    "            color=\"b\", align=\"center\")\n",
    "    plt.yticks(range(imp_features.shape[0]), imp_features['feature'], )\n",
    "    plt.ylim([-1, imp_features.shape[0]])\n",
    "    plt.xlabel('Importance')\n",
    "    plt.ylabel('Feature')\n",
    "    plt.tight_layout() \n",
    "    plt.savefig(cls_nm + \"_feature_imp.png\", bbox_inches='tight')\n",
    "    plt.show()"
   ]
  },
  {
   "cell_type": "code",
   "execution_count": 21,
   "metadata": {},
   "outputs": [
    {
     "data": {
      "image/png": "iVBORw0KGgoAAAANSUhEUgAAAsgAAAGoCAYAAABbtxOxAAAABHNCSVQICAgIfAhkiAAAAAlwSFlzAAALEgAACxIB0t1+/AAAADh0RVh0U29mdHdhcmUAbWF0cGxvdGxpYiB2ZXJzaW9uMy4yLjIsIGh0dHA6Ly9tYXRwbG90bGliLm9yZy+WH4yJAAAgAElEQVR4nO3de9hkZ1kn6t9D2kBCTkDCGRJzACRiImkIOCARGEHEDYycBgcGZIw6gIJwbRUVGUVG3TobNpqNUYegoxKGY+QYdAwgAU03BEIMSQiHiDBAzgdIJMkzf9Tq8KbzdXc16fqq+/vu+7rqSq213lrrWfVW5fv1W++qqu4OAAAwc7tlFwAAALsTARkAAAYCMgAADARkAAAYCMgAADAQkAEAYCAgA+taVb2+qn5tjnbnVtUJq1ASAEsmIMMaVVVfqKpvVtU1VXV5Vb27qu6zi/b72B20OaCqXlNVF0/H/+y0fHBVvb+qfmOFxzypqv53VW1YYdsZVXVdVV1dVVdV1eaq+qWquv1tPZ/u/pnu/s052h3d3Wfc1uONptB9zXS7cTrHLcsv35XH2sm6XllV3xpquaaq/u9dsM//satqnON4h1VVr/R6WoapliOXXQcwHwEZ1rYf6+79ktwjyVeTvG7RB6yqvZP8bZKjkzw+yQFJfiDJpUkemuSUJM+uqtrqoc9O8hfdfcM2dv3C7t4/s3N5aZJnJnnPCvvZY0yhe7+pjz6c2TnuN91evaXdkkLeqUMt+3X37y6hhpvtLkF3Z+2pdcN6JyDDOtDd1yV5S5IHbllXVbevqt+bRnm/Ok012GfadnBVvauqrqiqy6rqw1V1u6r68yT3TfLX2xlVfM7U5ind/U/dfVN3f627f7O735PkHUnunOSRQy13SvLEJH82x7lcO43k/l9JHp7kR6d93G4aVb6oqi6tqjdX1Z2HYzyiqs6czumfq+q50/pTqupV2zvvadvNI+fTc/eaqvrydHvNltHsqjqhqr5UVS+tqq9V1Veq6nlzdNPNhtHP51fVxUn+17T+J6vqvOkTgfdX1aHDYx5QVR+Y6j6/qp6+M8fcidq2V8Nrp+d2yyj/I6f1j0/y8iTPmF43n5zW3+LTiHGU+Tt5DnZQ9ylVdVJVvXeq4SNVdfep7y6vqs9U1fcP7b9QVb9cVf80bX9DVd1h2P5TNftk5LKqOq2q7jls66p6QVVdmOTCqvrQtOmT07GfUVV3ml5rX5/2/66quvewjzOq6jenOq+uqtOr6uBh+7Zez9t8XwPzE5BhHaiqfZM8I8nHhtW/k+R+SY5NcmSSeyV5xbTtpUm+lOSQJHfLLNx0dz87ycWZRqa3Mar42CTv6+5rVqqlu7+Z5M2ZBektnp7kM939yXnPqbsvTrIp3w7aP5fkyUkeleSeSS5P8ofT+d83yXszG0E/ZDrns1fY7YrnvUK7X0nysGk/x2Q2Mv6rw/a7Jzkws+f0+Un+cPpHwM56VJLvSfK4qnryVM+/m+r7cJK/ms7vjkk+kOQvk9w1yb9PclJVHf0dHHObtlfD5KzMnpM7T7X8z6q6Q3e/L8mr8+1R6WN24rBzPQdzenpm/XRwkuuTfDTJx6fltyT5b1u1/4kkj0tyRGbvlV9Nkqp6dJL/Ou3vHkm+mORNWz32yUmOT/LA7v7Bad0x0/mfmtnf3zckOTSzf1B+M8kfbLWPZyV5XmZ9uneSl03H397reXvva2Be3e3m5rYGb0m+kOSaJFckuSHJl5M8aNpWSa5NcsTQ/uFJPj/d/40k70xy5Db2+9jtHPcDSX57B7U9IsmVSfaZlj+S5CXbaX9Gkv+0wvo3Jfnj6f55SR4zbLtHkm8l2ZDkl5O8fRv7PiXJq3bmvJNclOQJw7bHJfnCdP+EzMLOhmH715I8bAfPyc3nmOSwzIL54cP29yZ5/rB8uyTfyCxgPSPJh7fa3x8l+fXv8LXzyiT/Or12ttzuub0atrGfyzMLhVv2+T+291oa2+zsc7DCsbc8fsPQz388bH9RkvOG5QcluWKr2n5mWH5Ckoum+3+a5HeHbftNr7XDpuVO8uit6umVXlfD9mOTXL7V6+FXh+X/nNk/PJNtvJ6zg/e1m5vb/DcjyLC2Pbm7D0py+yQvTPLBqrp7ZqNO+ybZPH1Ee0WS903rk+T/SfLZJKdX1eeq6pd24piXZhZOt6m7/z7J15M8qaoOT/KQzEYcd9a9klw23T80yduH8zkvyY2ZjQTfJ7NQuyPznvc9Mxs13OKL07otLu1bzqX+RmYhamf983D/0CSvHc7vsswC0b2mbcdv2TZt/4nMRrJvoaoeWd++8O7c7Rz7zd190HD78g5qyDSt5LyqunLafmBmo7O3xbzPwTy+Otz/5grLW/fReOyxj2/R/z37tOTSreoYH3srVbVvVf1RVX2xqq5K8qEkB1XVXkOz/z3cH19D23o97+h9DcxJQIZ1oLtv7O63ZRYYH5HkkswCwdFDADqwZxeLpbuv7u6XdvfhSX4syS9U1WO27G4Hh/ubzD4Ov+MO2v1ZZtMsnp3k9O7+6g7a30LNvpHjuMw+Zk9mgeRHtgp1d+juf5m2HbGjfe7gvEdbwuIW953W7Wrjc/3PSX56q/Pbp7vPnLZ9cKtt+3X3z95qh90f7m9feLezUzC2WcM03/gXM5t2cKfpH2ZXZhZgtz6XLa7NLNBtcatAvxPPwSKM3/oy9vEt+n96rd8lyb9so+6VvDTJ/ZMc390HJNkyDWOei0639Xre7vsamJ+ADOtAzTwpyZ0y+1j5piR/nOT/raq7Tm3uVVWPm+4/saqOrKpKclVmwfrGaXdfTXL4dg7355n9AX9rzS4cu11V3aWqXl5VTxja/Vlm85V/Kskbd+Jc9q2qR2U2FeIfk7xn2vT6JL+15aKtqjpkOuck+Yskj62qp1fVhqmeY1fY9/bOe/RXSX51OsbBmc3xXPRXmL0+yS9vmVdcVQdW1dOmbe9Kcr+qenZVfdd0e0hVfc8q1rB/ZlN5vp5kQ1W9IrNvMNniq0kOq+mix8nZSZ451bsxyVNvw/EX4QVVde+aXez58iSnTuv/MsnzqurYml2c+eok/9DdX9jOvrZ+3+yfWZi9Ytr/r+9EXSu+nnf0vgbmJyDD2vbXVXVNZmHvt5L8x+7e8rH6L2Y2neBj00e8f5PZiFaSHDUtX5PZhUwn9be/A/i/ZhYOr6iql219wO6+PrPg+5nM5iNflVmQPTjJPwztvpDkzCR3THLaHOfyB1V1dWZB4zVJ3prk8VMoSJLXTvs5fWr3scwukkrPLuh7QmajdpdlFsxWulBse+c9elVmFwh+Ksk5mV3o9ao5zuE71t1vz+wCrDdN/fXpJD8ybbs6yQ9n9tV3X87so/nfyWxqzarUkOT9mc0RviCz6QfX5ZbTDP7n9N9Lq+rj0/1fy2wk9PIk/yU7mGazg+Mvwl8mOT3J56bbq6Y6/jaz2t+a5CuZncMzd7CvVyZ54/S+eXpmr+F9Mhv1/VhmUyHmsoPX8/be18CcqntHnwIBwPpSVV/I7KLJv1l2LcDqM4IMAAADARkAAAamWAAAwMAIMgAADDYsu4Bd4eCDD+7DDjts2WUAALAH2bx58yXdfasf01kTAfmwww7Lpk2bll0GAAB7kKr64krrTbEAAICBgAwAAAMBGQAABgIyAAAMBGQAABgIyAAAMBCQAQBgICADAMBAQAYAgIGADAAAAwEZAAAGAjIAAAwEZAAAGAjIAAAwEJABAGAgIAMAwEBABgCAgYAMAAADARkAAAYCMgAADARkAAAYCMgAADAQkAEAYCAgAwDAQEAGAICBgAwAAAMBGQAABgIyAAAMBGQAABgIyAAAMNiw7AJ2hc2bk6plVwEAwM7oXnYFKzOCDAAAAwEZAAAGAjIAAAwEZAAAGAjIAAAwEJABAGAgIAMAwEBABgCAgYAMAAADARkAAAYCMgAADARkAAAYCMgAADAQkAEAYCAgAwDAQEAGAIDBbhWQq+qarZafW1V/sKx6AABYf3argAwAAMsmIAMAwGDDsgvYyj5VdfawfOckp63UsKpOTHLibOm+Cy8MAID1YXcLyN/s7mO3LFTVc5NsXKlhd5+c5ORZu429KtUBALDmmWIBAAADARkAAAYCMgAADHarOcjdvd9Wy6ckOWUpxQAAsC4ZQQYAgIGADAAAAwEZAAAGAjIAAAwEZAAAGAjIAAAwEJABAGAgIAMAwEBABgCAgYAMAAADARkAAAYCMgAADARkAAAYCMgAADAQkAEAYLBh2QXsCscdl2zatOwqAABYC4wgAwDAQEAGAICBgAwAAAMBGQAABgIyAAAMBGQAABgIyAAAMBCQAQBgICADAMBgTfyS3ubNSdWyq2DZupddAQCwFhhBBgCAgYAMAAADARkAAAYCMgAADARkAAAYCMgAADAQkAEAYCAgAwDAQEAGAICBgAwAAAMBGQAABgIyAAAMBGQAABgIyAAAMBCQAQBgICADAMBAQAYAgMGqBeSqurGqzq6qT1fVX1fVQdP6w6rqm9O2T1bVmVV1/2nbCVX1rtWqEQAAVnME+ZvdfWx3f2+Sy5K8YNh20bTtmCRvTPLyVawLAAButqwpFh9Ncq9tbDsgyeWrWAsAANxsw2ofsKr2SvKYJH86rD6iqs5Osn+SfZMcP8d+Tkxy4mzpvru8TgAA1qfVHEHeZwrBlya5c5IPDNu2TLE4IsmLk5y8o51198ndvbG7NyaHLKZiAADWnVWfg5zk0CR755ZzkEenJfnBVasKAAAGqz4HubuvTPJzSV5WVd+1QpNHJLlodasCAICZVZ+DnCTd/Ymq+mSSZyb5cL49B7mS/GuS/7SMugAAoLp72TXcZlUbO9m07DJYsjXwUgYAVlFVbZ5dz3ZLfkkPAAAGAjIAAAwEZAAAGAjIAAAwEJABAGAgIAMAwEBABgCAgYAMAAADARkAAAYCMgAADARkAAAYCMgAADAQkAEAYCAgAwDAQEAGAIDBhmUXsCscd1yyadOyqwAAYC0wggwAAAMBGQAABgIyAAAMBGQAABgIyAAAMBCQAQBgICADAMBAQAYAgIGADAAAgzXxS3qbNydVy65iz9e97AoAAJbPCDIAAAwEZAAAGAjIAAAwEJABAGAgIAMAwEBABgCAgYAMAAADARkAAAYCMgAADARkAAAYCMgAADAQkAEAYCAgAwDAQEAGAICBgAwAAAMBGQAABgIyAAAMFhqQq+reVfXOqrqwqi6qqtdW1d5VdUJVXVlVn6iq86rq16f2+1bVX1TVOVX16ar6+6rab5E1AgDAaGEBuaoqyduSvKO7j0pyvyT7JfmtqcmHu/v7k2xM8h+q6rgkP5/kq939oO7+3iTPT/KtRdUIAABb27DAfT86yXXd/YYk6e4bq+olST6f5O+2NOrua6tqc5IjktwjyReHbecvsD4AALiVRU6xODrJ5nFFd1+V5OIkR25ZV1V3SfKwJOcm+e9JfrGqPlpVr6qqo7a186o6sao2VdWm5OsLOQEAANafRY4gV5LezvpHVtUnktyU5Le7+9wkqarDk/xwkscmOauqHt7d5229k+4+OcnJs8dsXOk4AACw0xYZkM9N8uPjiqo6IMl9klyU2RzkJ279oO6+JrO5y2+rqpuSPCHJrQIyAAAswiKnWPxtkn2r6jlJUlV7Jfn9JKck+cZKD6iqf1NVd5ru753kgRnmJAMAwKItLCB3dyd5SpKnVdWFSS5Icl2Sl2/nYUck+WBVnZPkE0k2JXnromoEAICt1SzH7tlmc5A3LbuMPd4aeCkAAMytqjZ398at1/slPQAAGAjIAAAwEJABAGAgIAMAwGDugFxV+1TV/RdZDAAALNtcAbmqfizJ2UneNy0fW1WnLbIwAABYhnlHkF+Z5KFJrkiS7j47yWGLKQkAAJZn3oB8Q3dfudBKAABgN7BhznafrqpnJdmrqo5K8nNJzlxcWQAAsBzzjiC/KMnRSa5P8pdJrkzy4kUVBQAAy7LDEeSq2ivJad392CS/sviSAABgeXY4gtzdNyb5RlUduAr1AADAUs07B/m6JOdU1QeSXLtlZXf/3EKqAgCAJZk3IL97ugEAwJo2V0Du7jcuuhAAANgdzBWQq+rzSXrr9d19+C6v6Dtw3HHJpk3LrgIAgLVg3ikWG4f7d0jytCR33vXlAADAcs31Pcjdfelw+5fufk2SRy+4NgAAWHXzTrF48LB4u8xGlPdfSEUAALBE806x+P3h/g1JPp/k6bu+HAAAWK55A/Lzu/tz44qq+u4F1AMAAEs11xzkJG+Zcx0AAOzRtjuCXFUPSHJ0kgOr6t8Nmw7I7NssAABgTdnRFIv7J3likoOS/Niw/uokP7WoogAAYFm2G5C7+51J3llVD+/uj65STQAAsDTzXqT3iap6QWbTLW6eWtHdP7mQqnbS5s1J1bKr2Dl9q98lBABgdzDvRXp/nuTuSR6X5INJ7p3ZNAsAAFhT5g3IR3b3ryW5trvfmORHkzxocWUBAMByzBuQvzX994qq+t4kByY5bCEVAQDAEs07B/nkqrpTkl9LclqS/ZK8YmFVAQDAkswVkLv7T6a7H0xy+OLKAQCA5ZprikVV3a2q/rSq3jstP7Cqnr/Y0gAAYPXNOwf5lCTvT3LPafmCJC9eREEAALBM8wbkg7v7zUluSpLuviHJjQurCgAAlmTegHxtVd0lSSdJVT0syZULqwoAAJZk3m+x+IXMvr3iiKr6SJJDkjx1YVUBAMCSbDcgV9V9u/vi7v54VT0qyf2TVJLzu/tb23ssAADsiXY0xeIdw/1Tu/vc7v60cAwAwFq1o4Bcw33ffwwAwJq3o4Dc27gPAABr0o4u0jumqq7KbCR5n+l+puXu7gMWWh0AAKyy7Qbk7t5rtQoBAIDdwbzfgwwAAOvCwgNyVf1KVZ1bVZ+qqrOr6viqOqOqNq7Q9qHTtgur6uNV9e6qetCiawQAgC3m/aGQ70hVPTzJE5M8uLuvr6qDk+y9jbZ3S/LmJM/q7jOndY9IckSScxZZJwAAbLHQgJzkHkku6e7rk6S7L0mSqlqp7QuTvHFLOJ7a//2C6wMAgFtY9BSL05Pcp6ouqKqTpl/j25ajk3x83h1X1YlVtamqNiVfv82FAgBAsuCA3N3XJDkuyYmZpdhTq+q58zy2qv6hqs6rqtduY98nd/fG7t6YHLLLagYAYH1b9BSLdPeNSc5IckZVnZPkP26j6blJHpzkndPjjq+qp2Y2hxkAAFbFQkeQq+r+VXXUsOrYJF/cRvM/TPLcqvqBYd2+CysOAABWsOgR5P2SvK6qDkpyQ5LPZjbd4i1J3l1V35rafbS7n1ZVz0jyO1V1ryRfS3JJkt9YcI0AAHCz6u5l13CbVW3sZNOyy9gpa+BpBwDYo1XV5tn1bLfkl/QAAGAgIAMAwEBABgCAgYAMAAADARkAAAYCMgAADARkAAAYCMgAADAQkAEAYCAgAwDAQEAGAICBgAwAAAMBGQAABgIyAAAMBGQAABisiYB83HFJ9551AwBg97QmAjIAAOwqAjIAAAwEZAAAGAjIAAAwEJABAGAgIAMAwEBABgCAgYAMAAADARkAAAYbll3ArrB5c1K1+sf1i3gAAGuPEWQAABgIyAAAMBCQAQBgICADAMBAQAYAgIGADAAAAwEZAAAGAjIAAAwEZAAAGAjIAAAwEJABAGAgIAMAwEBABgCAgYAMAAADARkAAAYCMgAADARkAAAYLDQgV9W9q+qdVXVhVV1UVa+tqr2r6oSqurKqzq6qT1XV31TVXafHPLeqvj5t+6eq+qlF1ggAAKOFBeSqqiRvS/KO7j4qyf2S7Jfkt6YmH+7uY7v7+5KcleQFw8NP7e5jk5yQ5NVVdbdF1QkAAKNFjiA/Osl13f2GJOnuG5O8JMlPJtl3S6MpSO+f5PKtd9DdX0tyUZJDF1gnAADcbMMC9310ks3jiu6+qqouTnJkkkdW1dlJ7pLk2iQv33oHVXV4ksOTfHaFbScmOXG2dN9dXDoAAOvVIkeQK0lvZ/2WKRb3SfKGJL87tHnGFJ7/KslPd/dlW++ku0/u7o3dvTE5ZAHlAwCwHi1yBPncJD8+rqiqA5LcJ7NpE6PTkrx1WD61u1+4wNoAAGBFixxB/tsk+1bVc5KkqvZK8vtJTknyja3aPiK3Ds0AALDqFhaQu7uTPCXJ06rqwiQXJLku355r/Mjpq9w+meTZSV66qFoAAGBeNcuxe7aqjZ1sWvXjroGnDgBg3aqqzbPr2W7JL+kBAMBAQAYAgIGADAAAAwEZAAAGAjIAAAwEZAAAGAjIAAAwEJABAGAgIAMAwEBABgCAgYAMAAADARkAAAYCMgAADARkAAAYCMgAADBYEwH5uOOS7tW/AQCw9qyJgAwAALuKgAwAAAMBGQAABgIyAAAMBGQAABgIyAAAMBCQAQBgICADAMBAQAYAgMGGZRewK2zenFSt7jH9kh4AwNpkBBkAAAYCMgAADARkAAAYCMgAADAQkAEAYCAgAwDAQEAGAICBgAwAAAMBGQAABgIyAAAMBGQAABgIyAAAMBCQAQBgICADAMBAQAYAgIGADAAAAwEZAAAGSwnIVfUrVXVuVX2qqs6uquOrau+qek1VXVRVF1bVO6vq3suoDwCA9WvDah+wqh6e5IlJHtzd11fVwUn2TvLqJPsnuV9331hVz0vytqo6vrt7tesEAGB9WsYI8j2SXNLd1ydJd1+S5Iokz0vyku6+cVr/hiTXJ3n0EmoEAGCdWkZAPj3Jfarqgqo6qaoeleTIJBd391Vbtd2U5OiVdlJVJ1bVpqralHx9wSUDALBerHpA7u5rkhyX5MTMku2pSX4oyUrTKGob69PdJ3f3xu7emByyqHIBAFhnVn0OcpJM0yjOSHJGVZ2T5KeTHFpV+3f31UPTByf56yWUCADAOrXqI8hVdf+qOmpYdWyS85O8Mcl/q6q9pnbPSbJvkv+12jUCALB+LWMEeb8kr6uqg5LckOSzmU23uDrJ7yW5oKpuSvKZJE/xDRYAAKymWgv5s2pjz67nWz1r4GkDAFjXqmrz7Hq2W/JLegAAMBCQAQBgICADAMBAQAYAgIGADAAAAwEZAAAGAjIAAAwEZAAAGAjIAAAwEJABAGAgIAMAwEBABgCAgYAMAAADARkAAAYCMgAADNZEQD7uuKR7dW8AAKxNayIgAwDAriIgAwDAQEAGAICBgAwAAAMBGQAABgIyAAAMBGQAABgIyAAAMBCQAQBgICADAMBAQAYAgIGADAAAAwEZAAAGAjIAAAwEZAAAGAjIAAAwEJABAGAgIAMAwEBABgCAgYAMAAADARkAAAYCMgAADARkAAAYCMgAADAQkAEAYCAgAwDAQEAGAICBgAwAAAMBGQAABgIyAAAMqruXXcNtVlVXJzl/2XWQg5Ncsuwi0A+7AX2we9APuwf9sHvQDys7tLsP2XrlhmVUsgDnd/fGZRex3lXVJv2wfPph+fTB7kE/7B70w+5BP+wcUywAAGAgIAMAwGCtBOSTl10ASfTD7kI/LJ8+2D3oh92Dftg96IedsCYu0gMAgF1lrYwgAwDALiEgAwDAYI8JyFX1+Ko6v6o+W1W/tML2qqr/b9r+qap68DLqXOvm6IcHVNVHq+r6qnrZMmpcD+boh5+Y3gefqqozq+qYZdS51s3RD0+a+uDsqtpUVY9YRp1r3Y76YWj3kKq6saqeupr1rRdzvB9OqKorp/fD2VX1imXUuZbN816Y+uHsqjq3qj642jXuKfaIOchVtVeSC5L82yRfSnJWkn/f3f80tHlCkhcleUKS45O8truPX0K5a9ac/XDXJIcmeXKSy7v795ZR61o2Zz/8QJLzuvvyqvqRJK/0fti15uyH/ZJc291dVd+X5M3d/YClFLxGzdMPQ7sPJLkuyX/v7resdq1r2ZzvhxOSvKy7n7iUIte4OfvgoCRnJnl8d19cVXft7q8tpeDd3J4ygvzQJJ/t7s91978meVOSJ23V5klJ/qxnPpbkoKq6x2oXusbtsB+6+2vdfVaSby2jwHVinn44s7svnxY/luTeq1zjejBPP1zT3x6FuGOS3X9EYs8zz9+HZDaA8tYkwsBizNsPLM48ffCsJG/r7ouT2d/sVa5xj7GnBOR7JfnnYflL07qdbcNt4znePexsPzw/yXsXWtH6NFc/VNVTquozSd6d5CdXqbb1ZIf9UFX3SvKUJK9fxbrWm3n/v/TwqvpkVb23qo5endLWjXn64H5J7lRVZ1TV5qp6zqpVt4fZU35qulZYt/VIzDxtuG08x7uHufuhqn4os4Bs7uuuN1c/dPfbk7y9qn4wyW8meeyiC1tn5umH1yT5xe6+sWql5uwC8/TDx5Mc2t3XTNMi35HkqIVXtn7M0wcbkhyX5DFJ9kny0ar6WHdfsOji9jR7SkD+UpL7DMv3TvLl76ANt43nePcwVz9Mc17/JMmPdPelq1TberJT74fu/lBVHVFVB3f3JQuvbv2Ypx82JnnTFI4PTvKEqrqhu9+xOiWuCzvsh+6+arj/nqo6yfthl5o3K13S3dcmubaqPpTkmMzmLjPYU6ZYnJXkqKr67qraO8kzk5y2VZvTkjxn+jaLhyW5sru/stqFrnHz9AOLt8N+qKr7JnlbkmcbGViYefrhyJpS2fTNOnsn8Y+VXWuH/dDd393dh3X3YUnekuQ/C8e73Dzvh7sP74eHZpZBvB92nXn+Rr8zySOrakNV7ZvZlxqct8p17hH2iBHk7r6hql6Y5P1J9srsCuRzq+pnpu2vT/KezL7B4rNJvpHkecuqd62apx+q6u5JNiU5IMlNVfXiJA8cRw64beZ8P7wiyV2SnDT9Pbqhuzcuq+a1aM5++PHM/uH+rSTfTPKM4aI9doE5+4EFm7MfnprkZ6vqhszeD8/0fth15umD7j6vqt6X5FNJbkryJ9396eVVvfvaI77mDQAAVsueMsUCAABWhYAMAAADARkAAAYCMgAADARkAAAYCMgAq6yqrlnl4x1WVc9azWMC7MkEZIA1rKo2JDksiYAMMKc94odCANaiqjohyX9J8tUkx2b264fnJPn5JPskeXJ3X1RVpyS5LsnRSe6W5Be6+11VdYck/+xwmRwAAAKASURBVH9mP6V8w7T+76rquUl+NMkdktwxyb5Jvqeqzk7yxiRvT/Ln07YkeWF3nznV88oklyT53iSbk/yH7u6qekiS106PuT7JYzL7UabfTnJCktsn+cPu/qNd/TwBrDYBGWC5jknyPUkuS/K5zH7Z6qFV9fNJXpTkxVO7w5I8KskRSf6uqo5M8oIk6e4HVdUDkpxeVfeb2j88yfd192VT8H1Zdz8xSaafmP233X1dVR2V5K8yC9lJ8v2ZBfEvJ/lIkn9TVf+Y5NTMfgnwrKo6ILNfQnt+kiu7+yFVdfskH6mq07v78wt4ngBWjYAMsFxndfdXkqSqLkpy+rT+nCQ/NLR7c3fflOTCqvpckgckeUSS1yVJd3+mqr6YZEtA/kB3X7aNY35Xkj+oqmOT3Dg8Jkn+sbu/NNVzdmbB/MokX+nus6ZjXTVt/+Ek31dVT50ee2CSo5IIyMAeTUAGWK7rh/s3Dcs35Zb/j+6tHtdJajv7vXY7216S2bSOYzK7FuW6bdRz41RDrXD8TOtf1N3v386xAPY4LtID2DM8rapuV1VHJDk8yflJPpTkJ5Jkmlpx32n91q5Osv+wfGBmI8I3JXl2kr12cOzPJLnnNA85VbX/dPHf+5P8bFV915YaquqO29kPwB7BCDLAnuH8JB/M7CK9n5nmD5+U5PVVdU5mF+k9t7uvr7rVwPKnktxQVZ9MckqSk5K8taqeluTvsv3R5nT3v1bVM5K8rqr2yWz+8WOT/ElmUzA+XrODfj3Jk3fFyQIsU3Wv9KkZALuL6Vss3tXdb1l2LQDrgSkWAAAwMIIMAAADI8gAADAQkAEAYCAgAwDAQEAGAICBgAwAAIP/A4Y9Jv4GgLsZAAAAAElFTkSuQmCC\n",
      "text/plain": [
       "<Figure size 720x432 with 1 Axes>"
      ]
     },
     "metadata": {
      "needs_background": "light"
     },
     "output_type": "display_data"
    }
   ],
   "source": [
    "plot_feature_importance(best_dec_tree_cv, merged_x.columns, cls_nm='Best CV Decision Tree')\n",
    "importances = best_dec_tree_cv.feature_importances_\n",
    "indices = np.argsort(importances)[::-1]\n",
    "for f in range(merged_x.shape[1]):\n",
    "print("%d. feature %d (%f)" % (f + 1, indices[f], importances[indices[f]]))"
            
   
   ]
  }
 ],
 "metadata": {
  "kernelspec": {
   "display_name": "Python 3",
   "language": "python",
   "name": "python3"
  },
  "language_info": {
   "codemirror_mode": {
    "name": "ipython",
    "version": 3
   },
   "file_extension": ".py",
   "mimetype": "text/x-python",
   "name": "python",
   "nbconvert_exporter": "python",
   "pygments_lexer": "ipython3",
   "version": "3.8.3"
  }
 },
 "nbformat": 4,
 "nbformat_minor": 4
}
